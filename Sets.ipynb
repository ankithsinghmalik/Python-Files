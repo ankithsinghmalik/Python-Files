{
 "cells": [
  {
   "cell_type": "markdown",
   "id": "67a9ea94",
   "metadata": {},
   "source": [
    "# Sets\n",
    "\n",
    "In python sets are written with curly brackets\n",
    "\n"
   ]
  },
  {
   "cell_type": "raw",
   "id": "ef3a9134",
   "metadata": {},
   "source": [
    "# few points about sets\n",
    "1. Can store different data type\n",
    "2. Duplicate values are not allowed\n",
    "3. Indexing and Slicing is not possible\n",
    "4. It is mutable"
   ]
  },
  {
   "cell_type": "code",
   "execution_count": 1,
   "id": "461e85db",
   "metadata": {},
   "outputs": [],
   "source": [
    "set1 = {2,3,44.5,-6.88,'programming','python',4,3,2}"
   ]
  },
  {
   "cell_type": "code",
   "execution_count": 2,
   "id": "d515f8a5",
   "metadata": {},
   "outputs": [
    {
     "name": "stdout",
     "output_type": "stream",
     "text": [
      "{2, 3, 4, 44.5, 'programming', 'python', -6.88}\n"
     ]
    }
   ],
   "source": [
    "print(set1)"
   ]
  },
  {
   "cell_type": "code",
   "execution_count": 27,
   "id": "d091b271",
   "metadata": {},
   "outputs": [],
   "source": [
    "set2 = {1,2,3,4,4,1,2,1,1,4,3}"
   ]
  },
  {
   "cell_type": "code",
   "execution_count": 4,
   "id": "eb8ff44f",
   "metadata": {},
   "outputs": [
    {
     "name": "stdout",
     "output_type": "stream",
     "text": [
      "{1, 2, 3, 4}\n"
     ]
    }
   ],
   "source": [
    "print(set2)"
   ]
  },
  {
   "cell_type": "code",
   "execution_count": 5,
   "id": "b3aa7b79",
   "metadata": {},
   "outputs": [
    {
     "data": {
      "text/plain": [
       "set"
      ]
     },
     "execution_count": 5,
     "metadata": {},
     "output_type": "execute_result"
    }
   ],
   "source": [
    "type(set2)"
   ]
  },
  {
   "cell_type": "code",
   "execution_count": 6,
   "id": "e3218ee1",
   "metadata": {},
   "outputs": [
    {
     "data": {
      "text/plain": [
       "4"
      ]
     },
     "execution_count": 6,
     "metadata": {},
     "output_type": "execute_result"
    }
   ],
   "source": [
    "# checking the length\n",
    "\n",
    "len(set2)"
   ]
  },
  {
   "cell_type": "code",
   "execution_count": 8,
   "id": "e2f605be",
   "metadata": {},
   "outputs": [
    {
     "ename": "TypeError",
     "evalue": "'set' object is not subscriptable",
     "output_type": "error",
     "traceback": [
      "\u001b[1;31m---------------------------------------------------------------------------\u001b[0m",
      "\u001b[1;31mTypeError\u001b[0m                                 Traceback (most recent call last)",
      "\u001b[1;32m<ipython-input-8-bf03a1421b7f>\u001b[0m in \u001b[0;36m<module>\u001b[1;34m\u001b[0m\n\u001b[0;32m      1\u001b[0m \u001b[1;31m# indexing and slicing in sets (it is not allowed)\u001b[0m\u001b[1;33m\u001b[0m\u001b[1;33m\u001b[0m\u001b[1;33m\u001b[0m\u001b[0m\n\u001b[0;32m      2\u001b[0m \u001b[1;33m\u001b[0m\u001b[0m\n\u001b[1;32m----> 3\u001b[1;33m \u001b[0mset2\u001b[0m\u001b[1;33m[\u001b[0m\u001b[1;36m0\u001b[0m\u001b[1;33m:\u001b[0m\u001b[1;36m2\u001b[0m\u001b[1;33m]\u001b[0m\u001b[1;33m\u001b[0m\u001b[1;33m\u001b[0m\u001b[0m\n\u001b[0m",
      "\u001b[1;31mTypeError\u001b[0m: 'set' object is not subscriptable"
     ]
    }
   ],
   "source": [
    "# indexing and slicing in sets (it is not allowed)\n",
    "\n",
    "set2[0:2]"
   ]
  },
  {
   "cell_type": "code",
   "execution_count": 12,
   "id": "3dfb5df6",
   "metadata": {},
   "outputs": [
    {
     "name": "stdout",
     "output_type": "stream",
     "text": [
      "{}\n"
     ]
    }
   ],
   "source": [
    "# Empty Set\n",
    "\n",
    "set3 = {}\n",
    "print(set3)"
   ]
  },
  {
   "cell_type": "code",
   "execution_count": 13,
   "id": "1e5b18b8",
   "metadata": {},
   "outputs": [
    {
     "data": {
      "text/plain": [
       "dict"
      ]
     },
     "execution_count": 13,
     "metadata": {},
     "output_type": "execute_result"
    }
   ],
   "source": [
    "type(set3)"
   ]
  },
  {
   "cell_type": "code",
   "execution_count": 14,
   "id": "df9877c8",
   "metadata": {},
   "outputs": [
    {
     "name": "stdout",
     "output_type": "stream",
     "text": [
      "set()\n"
     ]
    }
   ],
   "source": [
    "# to build an empty set we have to use the inbuilt set function which is set()\n",
    "set3 = set()\n",
    "print(set3)"
   ]
  },
  {
   "cell_type": "code",
   "execution_count": 15,
   "id": "3a7d378f",
   "metadata": {},
   "outputs": [
    {
     "data": {
      "text/plain": [
       "set"
      ]
     },
     "execution_count": 15,
     "metadata": {},
     "output_type": "execute_result"
    }
   ],
   "source": [
    "type(set3)"
   ]
  },
  {
   "cell_type": "code",
   "execution_count": 25,
   "id": "1863b1ef",
   "metadata": {},
   "outputs": [
    {
     "name": "stdout",
     "output_type": "stream",
     "text": [
      "{3, 4, 5, 6, 7, 8}\n"
     ]
    }
   ],
   "source": [
    "set2 = {3,4,5,6,8,7}\n",
    "print(set2)"
   ]
  },
  {
   "cell_type": "code",
   "execution_count": 28,
   "id": "cdf1f6a4",
   "metadata": {},
   "outputs": [
    {
     "name": "stdout",
     "output_type": "stream",
     "text": [
      "{1, 2, 3, 4, 5}\n"
     ]
    }
   ],
   "source": [
    "# Using inbuilt functions will add new elements in the set\n",
    "\n",
    "# * TO add elements we use function named --> add(item)\n",
    "\n",
    "set2.add(5)\n",
    "print(set2)"
   ]
  },
  {
   "cell_type": "code",
   "execution_count": 29,
   "id": "9dcbbd03",
   "metadata": {},
   "outputs": [
    {
     "name": "stdout",
     "output_type": "stream",
     "text": [
      "{1, 2, 3, 4, 5, 'hello'}\n"
     ]
    }
   ],
   "source": [
    "set2.add('hello')\n",
    "print(set2)"
   ]
  },
  {
   "cell_type": "code",
   "execution_count": 30,
   "id": "548503b4",
   "metadata": {},
   "outputs": [
    {
     "name": "stdout",
     "output_type": "stream",
     "text": [
      "{1, 2, 3, 4, 5, 'hello'}\n"
     ]
    }
   ],
   "source": [
    "set2.add(5)\n",
    "print(set2)"
   ]
  },
  {
   "cell_type": "code",
   "execution_count": 31,
   "id": "4ba5526e",
   "metadata": {},
   "outputs": [],
   "source": [
    "# IF you want to add more than one items. I can do that using the inbuilt function called .update(list)\n",
    "\n",
    "set2.update([22,3.562,'hi'])"
   ]
  },
  {
   "cell_type": "code",
   "execution_count": 32,
   "id": "561b8619",
   "metadata": {},
   "outputs": [
    {
     "name": "stdout",
     "output_type": "stream",
     "text": [
      "{1, 2, 3, 4, 5, 3.562, 'hi', 22, 'hello'}\n"
     ]
    }
   ],
   "source": [
    "print(set2)"
   ]
  },
  {
   "cell_type": "code",
   "execution_count": 33,
   "id": "18cd9284",
   "metadata": {},
   "outputs": [
    {
     "data": {
      "text/plain": [
       "{1, 2, 22, 3, 3.562, 4, 5, 'hello', 'hi'}"
      ]
     },
     "execution_count": 33,
     "metadata": {},
     "output_type": "execute_result"
    }
   ],
   "source": [
    "# copy\n",
    "\n",
    "set3 = set2.copy()\n",
    "set3"
   ]
  },
  {
   "cell_type": "code",
   "execution_count": 34,
   "id": "7d354131",
   "metadata": {},
   "outputs": [
    {
     "data": {
      "text/plain": [
       "{1, 2, 22, 3, 3.562, 4, 5, 'hello', 'hi'}"
      ]
     },
     "execution_count": 34,
     "metadata": {},
     "output_type": "execute_result"
    }
   ],
   "source": [
    "# to remove an specified item from the set, Will use a function named .remove(item)\n",
    "\n",
    "set2"
   ]
  },
  {
   "cell_type": "code",
   "execution_count": 35,
   "id": "958bf9f8",
   "metadata": {},
   "outputs": [],
   "source": [
    "set2.remove(3.562)"
   ]
  },
  {
   "cell_type": "code",
   "execution_count": 36,
   "id": "3ba57928",
   "metadata": {},
   "outputs": [
    {
     "data": {
      "text/plain": [
       "{1, 2, 22, 3, 4, 5, 'hello', 'hi'}"
      ]
     },
     "execution_count": 36,
     "metadata": {},
     "output_type": "execute_result"
    }
   ],
   "source": [
    "set2"
   ]
  },
  {
   "cell_type": "code",
   "execution_count": 37,
   "id": "3f92c13c",
   "metadata": {},
   "outputs": [],
   "source": [
    "set2.remove('hi')"
   ]
  },
  {
   "cell_type": "code",
   "execution_count": 38,
   "id": "f4bfdf00",
   "metadata": {},
   "outputs": [
    {
     "data": {
      "text/plain": [
       "{1, 2, 22, 3, 4, 5, 'hello'}"
      ]
     },
     "execution_count": 38,
     "metadata": {},
     "output_type": "execute_result"
    }
   ],
   "source": [
    "set2"
   ]
  },
  {
   "cell_type": "code",
   "execution_count": 39,
   "id": "735a3b41",
   "metadata": {},
   "outputs": [
    {
     "ename": "KeyError",
     "evalue": "'hi'",
     "output_type": "error",
     "traceback": [
      "\u001b[1;31m---------------------------------------------------------------------------\u001b[0m",
      "\u001b[1;31mKeyError\u001b[0m                                  Traceback (most recent call last)",
      "\u001b[1;32m<ipython-input-39-93bb47dd2262>\u001b[0m in \u001b[0;36m<module>\u001b[1;34m\u001b[0m\n\u001b[0;32m      1\u001b[0m \u001b[1;31m# removing the element which is not present\u001b[0m\u001b[1;33m\u001b[0m\u001b[1;33m\u001b[0m\u001b[1;33m\u001b[0m\u001b[0m\n\u001b[1;32m----> 2\u001b[1;33m \u001b[0mset2\u001b[0m\u001b[1;33m.\u001b[0m\u001b[0mremove\u001b[0m\u001b[1;33m(\u001b[0m\u001b[1;34m'hi'\u001b[0m\u001b[1;33m)\u001b[0m\u001b[1;33m\u001b[0m\u001b[1;33m\u001b[0m\u001b[0m\n\u001b[0m",
      "\u001b[1;31mKeyError\u001b[0m: 'hi'"
     ]
    }
   ],
   "source": [
    "# removing the element which is not present\n",
    "set2.remove('hi')"
   ]
  },
  {
   "cell_type": "code",
   "execution_count": 40,
   "id": "a784846d",
   "metadata": {},
   "outputs": [
    {
     "data": {
      "text/plain": [
       "{1, 2, 3, 4, 5, 22}"
      ]
     },
     "execution_count": 40,
     "metadata": {},
     "output_type": "execute_result"
    }
   ],
   "source": [
    "# Now removing the elements from a set using a function called .discard(item)\n",
    "\n",
    "set2.discard('hello')\n",
    "set2"
   ]
  },
  {
   "cell_type": "code",
   "execution_count": 41,
   "id": "935e68ed",
   "metadata": {},
   "outputs": [],
   "source": [
    "set2.discard('hello') # if we are trying to remove the element which isn't present in the sets  using the discard function it won't throw any error message"
   ]
  },
  {
   "cell_type": "code",
   "execution_count": 42,
   "id": "70f2bc0f",
   "metadata": {},
   "outputs": [
    {
     "data": {
      "text/plain": [
       "'a'"
      ]
     },
     "execution_count": 42,
     "metadata": {},
     "output_type": "execute_result"
    }
   ],
   "source": [
    "# sets are unordered , so when we are using the pop() method , you will not know which item is removed\n",
    "\n",
    "set4 = {'a',1,'b',2,'c',3,4,'d'}\n",
    "set4.pop()"
   ]
  },
  {
   "cell_type": "code",
   "execution_count": 43,
   "id": "5f880791",
   "metadata": {},
   "outputs": [
    {
     "data": {
      "text/plain": [
       "1"
      ]
     },
     "execution_count": 43,
     "metadata": {},
     "output_type": "execute_result"
    }
   ],
   "source": [
    "set4.pop()"
   ]
  },
  {
   "cell_type": "code",
   "execution_count": 44,
   "id": "a5019998",
   "metadata": {},
   "outputs": [
    {
     "data": {
      "text/plain": [
       "2"
      ]
     },
     "execution_count": 44,
     "metadata": {},
     "output_type": "execute_result"
    }
   ],
   "source": [
    "set4.pop()"
   ]
  },
  {
   "cell_type": "code",
   "execution_count": 45,
   "id": "a5e7bcc8",
   "metadata": {},
   "outputs": [
    {
     "data": {
      "text/plain": [
       "3"
      ]
     },
     "execution_count": 45,
     "metadata": {},
     "output_type": "execute_result"
    }
   ],
   "source": [
    "set4.pop()"
   ]
  },
  {
   "cell_type": "code",
   "execution_count": 46,
   "id": "ea618d45",
   "metadata": {},
   "outputs": [
    {
     "data": {
      "text/plain": [
       "{4, 'b', 'c', 'd'}"
      ]
     },
     "execution_count": 46,
     "metadata": {},
     "output_type": "execute_result"
    }
   ],
   "source": [
    "set4"
   ]
  },
  {
   "cell_type": "code",
   "execution_count": 47,
   "id": "f654c4ec",
   "metadata": {},
   "outputs": [
    {
     "data": {
      "text/plain": [
       "set()"
      ]
     },
     "execution_count": 47,
     "metadata": {},
     "output_type": "execute_result"
    }
   ],
   "source": [
    "# clear() --> It will clear all the items inside the set and restore the data type\n",
    "\n",
    "set4.clear()\n",
    "set4"
   ]
  },
  {
   "cell_type": "code",
   "execution_count": 48,
   "id": "4203b5aa",
   "metadata": {},
   "outputs": [],
   "source": [
    "# WORKING WITH FEW INBUILT FUNCTIONS \n",
    "# union()\n",
    "#intersection()"
   ]
  },
  {
   "cell_type": "code",
   "execution_count": 53,
   "id": "5fd38df3",
   "metadata": {},
   "outputs": [],
   "source": [
    "set1 = {2,3,4,56,8,9,10,'python'}\n",
    "set2 = {3,4,10, 23.5,44.567,'programming','python'}"
   ]
  },
  {
   "cell_type": "code",
   "execution_count": 54,
   "id": "5ac0cb58",
   "metadata": {},
   "outputs": [
    {
     "name": "stdout",
     "output_type": "stream",
     "text": [
      "{2, 3, 4, 8, 9, 10, 'python', 56} {3, 4, 10, 44.567, 'programming', 'python', 23.5}\n"
     ]
    }
   ],
   "source": [
    "print(set1,set2)"
   ]
  },
  {
   "cell_type": "code",
   "execution_count": 55,
   "id": "688efbf4",
   "metadata": {},
   "outputs": [],
   "source": [
    "set3 = set1.union(set2)"
   ]
  },
  {
   "cell_type": "code",
   "execution_count": 56,
   "id": "b539f9cc",
   "metadata": {},
   "outputs": [
    {
     "name": "stdout",
     "output_type": "stream",
     "text": [
      "{2, 3, 4, 8, 9, 10, 44.567, 'programming', 23.5, 'python', 56}\n"
     ]
    }
   ],
   "source": [
    "print(set3)"
   ]
  },
  {
   "cell_type": "code",
   "execution_count": 57,
   "id": "fb818829",
   "metadata": {},
   "outputs": [],
   "source": [
    "# working with the intersection\n",
    "\n",
    "set4 = set1.intersection(set2)"
   ]
  },
  {
   "cell_type": "code",
   "execution_count": 58,
   "id": "f21e14c6",
   "metadata": {},
   "outputs": [
    {
     "name": "stdout",
     "output_type": "stream",
     "text": [
      "{10, 3, 4, 'python'}\n"
     ]
    }
   ],
   "source": [
    "print(set4)"
   ]
  },
  {
   "cell_type": "code",
   "execution_count": 59,
   "id": "931dbaf8",
   "metadata": {},
   "outputs": [],
   "source": [
    "# Task on sets , going through few inbuilt functions\n",
    "# 1) difference(), 2) symmetric_difference()"
   ]
  },
  {
   "cell_type": "code",
   "execution_count": null,
   "id": "c487fcfb",
   "metadata": {},
   "outputs": [],
   "source": [
    "# MAKE A TABLE OF ALL THE INBUILT DATA TYPES  AND POINT OUT THE DIFFERENCE ONE BY ONE "
   ]
  }
 ],
 "metadata": {
  "kernelspec": {
   "display_name": "Python 3",
   "language": "python",
   "name": "python3"
  },
  "language_info": {
   "codemirror_mode": {
    "name": "ipython",
    "version": 3
   },
   "file_extension": ".py",
   "mimetype": "text/x-python",
   "name": "python",
   "nbconvert_exporter": "python",
   "pygments_lexer": "ipython3",
   "version": "3.8.8"
  }
 },
 "nbformat": 4,
 "nbformat_minor": 5
}
