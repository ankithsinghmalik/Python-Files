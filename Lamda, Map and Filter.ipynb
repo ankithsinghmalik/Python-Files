{
 "cells": [
  {
   "cell_type": "markdown",
   "id": "3c685111",
   "metadata": {},
   "source": [
    "# Lambda\n",
    "\n",
    "* A lambda function is a small anonymous function or nameless function\n",
    "* they are mostly built when you want a function to be used for a short period of time\n",
    "* A lambda function can take any number of arguements, but can only have one expression\n",
    "* They are mostly used along with the map and filter"
   ]
  },
  {
   "cell_type": "code",
   "execution_count": 1,
   "id": "17b51534",
   "metadata": {},
   "outputs": [],
   "source": [
    "# syntax\n",
    "# lambda arugements : expression"
   ]
  },
  {
   "cell_type": "code",
   "execution_count": 2,
   "id": "bc6f83fa",
   "metadata": {},
   "outputs": [
    {
     "data": {
      "text/plain": [
       "100"
      ]
     },
     "execution_count": 2,
     "metadata": {},
     "output_type": "execute_result"
    }
   ],
   "source": [
    "# example of squaring a number one argument\n",
    "\n",
    "#normal function\n",
    "\n",
    "def square(num):\n",
    "    return num**2\n",
    "\n",
    "square(10)"
   ]
  },
  {
   "cell_type": "code",
   "execution_count": 3,
   "id": "81e1d99c",
   "metadata": {},
   "outputs": [],
   "source": [
    "# lamda \n",
    "\n",
    "square  = lambda num: num**2"
   ]
  },
  {
   "cell_type": "code",
   "execution_count": 5,
   "id": "7803b59f",
   "metadata": {},
   "outputs": [
    {
     "data": {
      "text/plain": [
       "16"
      ]
     },
     "execution_count": 5,
     "metadata": {},
     "output_type": "execute_result"
    }
   ],
   "source": [
    "square(4)"
   ]
  },
  {
   "cell_type": "code",
   "execution_count": 6,
   "id": "8c51998a",
   "metadata": {},
   "outputs": [],
   "source": [
    "# example 2\n",
    "#adding multiple number\n",
    "\n",
    "add = lambda x,y,z : x+y+z"
   ]
  },
  {
   "cell_type": "code",
   "execution_count": 7,
   "id": "788bfe45",
   "metadata": {},
   "outputs": [
    {
     "data": {
      "text/plain": [
       "60"
      ]
     },
     "execution_count": 7,
     "metadata": {},
     "output_type": "execute_result"
    }
   ],
   "source": [
    "add(10,20,30)"
   ]
  },
  {
   "cell_type": "code",
   "execution_count": 10,
   "id": "776e9af4",
   "metadata": {},
   "outputs": [],
   "source": [
    "# WE will not use lambda function like this, we will mostly use this with map and filter functions "
   ]
  },
  {
   "cell_type": "markdown",
   "id": "580b2ef9",
   "metadata": {},
   "source": [
    "# MAP\n",
    "* it will allow you to \"map\" a function to a iterable variable or object\n"
   ]
  },
  {
   "cell_type": "code",
   "execution_count": 11,
   "id": "61ac054a",
   "metadata": {},
   "outputs": [
    {
     "data": {
      "text/plain": [
       "'\\nmap(function, sequences)\\n\\nit applies the function to all the elements in the sequences\\n'"
      ]
     },
     "execution_count": 11,
     "metadata": {},
     "output_type": "execute_result"
    }
   ],
   "source": [
    "# sytnax of map function\n",
    "\n",
    "'''\n",
    "map(function, sequences)\n",
    "\n",
    "it applies the function to all the elements in the sequences\n",
    "'''"
   ]
  },
  {
   "cell_type": "code",
   "execution_count": 12,
   "id": "2237bccc",
   "metadata": {},
   "outputs": [],
   "source": [
    "# example of squaring a number\n",
    "def my_square(num):\n",
    "    return num**2"
   ]
  },
  {
   "cell_type": "code",
   "execution_count": 13,
   "id": "72540ed1",
   "metadata": {},
   "outputs": [
    {
     "data": {
      "text/plain": [
       "16"
      ]
     },
     "execution_count": 13,
     "metadata": {},
     "output_type": "execute_result"
    }
   ],
   "source": [
    "square (4)"
   ]
  },
  {
   "cell_type": "code",
   "execution_count": 14,
   "id": "4c866233",
   "metadata": {},
   "outputs": [
    {
     "data": {
      "text/plain": [
       "64"
      ]
     },
     "execution_count": 14,
     "metadata": {},
     "output_type": "execute_result"
    }
   ],
   "source": [
    "square(8)"
   ]
  },
  {
   "cell_type": "code",
   "execution_count": 15,
   "id": "e0be62b2",
   "metadata": {},
   "outputs": [],
   "source": [
    "# sequence of numbers\n",
    "my_nums = [2,3,5,7,9]"
   ]
  },
  {
   "cell_type": "code",
   "execution_count": 16,
   "id": "733b244e",
   "metadata": {},
   "outputs": [
    {
     "data": {
      "text/plain": [
       "<map at 0x251bde490a0>"
      ]
     },
     "execution_count": 16,
     "metadata": {},
     "output_type": "execute_result"
    }
   ],
   "source": [
    "# map\n",
    "map(my_square, my_nums)"
   ]
  },
  {
   "cell_type": "code",
   "execution_count": 19,
   "id": "642c78bc",
   "metadata": {},
   "outputs": [
    {
     "name": "stdout",
     "output_type": "stream",
     "text": [
      "4\n",
      "9\n",
      "25\n",
      "49\n",
      "81\n"
     ]
    }
   ],
   "source": [
    "# to get the result we have to iterate or loop over map object\n",
    "for item in map(my_square,my_nums):\n",
    "    print(item)"
   ]
  },
  {
   "cell_type": "code",
   "execution_count": 20,
   "id": "5b971801",
   "metadata": {},
   "outputs": [
    {
     "data": {
      "text/plain": [
       "[4, 9, 25, 49, 81]"
      ]
     },
     "execution_count": 20,
     "metadata": {},
     "output_type": "execute_result"
    }
   ],
   "source": [
    "list(map(my_square,my_nums))"
   ]
  },
  {
   "cell_type": "markdown",
   "id": "8e1012ad",
   "metadata": {},
   "source": [
    "# Filter function\n",
    "* The filter function allows you to filter the elements based on the condition given in the function\n",
    "* returns an filter object"
   ]
  },
  {
   "cell_type": "code",
   "execution_count": 21,
   "id": "7a53739f",
   "metadata": {},
   "outputs": [
    {
     "data": {
      "text/plain": [
       "'\\nfilter(function,sequences)\\n\\nIt applies the function to all the elements in the sequences and retains only those elements which passes the specific conditions\\n'"
      ]
     },
     "execution_count": 21,
     "metadata": {},
     "output_type": "execute_result"
    }
   ],
   "source": [
    "# syntax of filter\n",
    "\n",
    "'''\n",
    "filter(function,sequences)\n",
    "\n",
    "It applies the function to all the elements in the sequences and retains only those elements which passes the specific conditions\n",
    "'''"
   ]
  },
  {
   "cell_type": "code",
   "execution_count": 22,
   "id": "f46766d9",
   "metadata": {},
   "outputs": [],
   "source": [
    "# example\n",
    "# TO FILTER THE WORDS STARTING WITH 'a'\n",
    "\n",
    "word_list = ['apple','banana','mango','airport', 'ant','cat','annoy']"
   ]
  },
  {
   "cell_type": "code",
   "execution_count": 23,
   "id": "fa31a81d",
   "metadata": {},
   "outputs": [],
   "source": [
    "# function\n",
    "def start_with_a(word):\n",
    "    if (word[0] == 'a'):\n",
    "        return True\n",
    "    else:\n",
    "        return False"
   ]
  },
  {
   "cell_type": "code",
   "execution_count": 24,
   "id": "b5b67bf4",
   "metadata": {},
   "outputs": [
    {
     "data": {
      "text/plain": [
       "<filter at 0x251bdf3e4f0>"
      ]
     },
     "execution_count": 24,
     "metadata": {},
     "output_type": "execute_result"
    }
   ],
   "source": [
    "filter(start_with_a, word_list)"
   ]
  },
  {
   "cell_type": "code",
   "execution_count": 25,
   "id": "4d32e759",
   "metadata": {},
   "outputs": [
    {
     "data": {
      "text/plain": [
       "['apple', 'airport', 'ant', 'annoy']"
      ]
     },
     "execution_count": 25,
     "metadata": {},
     "output_type": "execute_result"
    }
   ],
   "source": [
    "list(filter(start_with_a,word_list))"
   ]
  },
  {
   "cell_type": "code",
   "execution_count": 32,
   "id": "c351c245",
   "metadata": {},
   "outputs": [],
   "source": [
    "# example to filter only the even numbers\n",
    "\n",
    "nums = [0,1,2,3,4,5,6,7,8,9,10]"
   ]
  },
  {
   "cell_type": "code",
   "execution_count": 27,
   "id": "77e03928",
   "metadata": {},
   "outputs": [],
   "source": [
    "# function\n",
    "\n",
    "def check_even(num):\n",
    "    if (num%2 ==0):\n",
    "        return True\n",
    "    else:\n",
    "        return False"
   ]
  },
  {
   "cell_type": "code",
   "execution_count": 28,
   "id": "24712f33",
   "metadata": {},
   "outputs": [
    {
     "data": {
      "text/plain": [
       "[0, 2, 4, 6, 8, 10]"
      ]
     },
     "execution_count": 28,
     "metadata": {},
     "output_type": "execute_result"
    }
   ],
   "source": [
    "list(filter(check_even,nums))"
   ]
  },
  {
   "cell_type": "code",
   "execution_count": 29,
   "id": "8ffd82ac",
   "metadata": {},
   "outputs": [
    {
     "data": {
      "text/plain": [
       "[True, False, True, False, True, False, True, False, True, False, True]"
      ]
     },
     "execution_count": 29,
     "metadata": {},
     "output_type": "execute_result"
    }
   ],
   "source": [
    "# CHECKING THE DIFFERENCE BETWEEN FILTER AND MAP\n",
    "list(map(check_even,nums))"
   ]
  },
  {
   "cell_type": "code",
   "execution_count": 30,
   "id": "a27a2b55",
   "metadata": {},
   "outputs": [
    {
     "data": {
      "text/plain": [
       "[0, 2, 4, 6, 8, 10]"
      ]
     },
     "execution_count": 30,
     "metadata": {},
     "output_type": "execute_result"
    }
   ],
   "source": [
    "list(filter(check_even,nums))"
   ]
  },
  {
   "cell_type": "markdown",
   "id": "d0236648",
   "metadata": {},
   "source": [
    "# USING LAMBDA WITH MAP() AND FILTER()"
   ]
  },
  {
   "cell_type": "code",
   "execution_count": 31,
   "id": "8e13815f",
   "metadata": {},
   "outputs": [
    {
     "data": {
      "text/plain": [
       "[100, 400, 900, 1600, 2500]"
      ]
     },
     "execution_count": 31,
     "metadata": {},
     "output_type": "execute_result"
    }
   ],
   "source": [
    "#sequence\n",
    "\n",
    "nums = [10,20,30,40,50]\n",
    "\n",
    "#lambda with map() function\n",
    "\n",
    "list(map(lambda num : num **2 , nums))"
   ]
  },
  {
   "cell_type": "code",
   "execution_count": 34,
   "id": "35c4639b",
   "metadata": {},
   "outputs": [],
   "source": [
    "nums = [0,1,2,3,4,5,6,7,8,9,10]"
   ]
  },
  {
   "cell_type": "code",
   "execution_count": 35,
   "id": "54ec3380",
   "metadata": {},
   "outputs": [
    {
     "data": {
      "text/plain": [
       "[0, 2, 4, 6, 8, 10]"
      ]
     },
     "execution_count": 35,
     "metadata": {},
     "output_type": "execute_result"
    }
   ],
   "source": [
    "#lambda with filter() function\n",
    "\n",
    "list(filter( lambda num : num% 2== 0, nums))"
   ]
  },
  {
   "cell_type": "code",
   "execution_count": null,
   "id": "77773f9d",
   "metadata": {},
   "outputs": [],
   "source": [
    "# TASK\n",
    "\n",
    "# GO THROUGH \n",
    "# reduce()\n",
    "#zip()\n",
    "#enumerate()"
   ]
  }
 ],
 "metadata": {
  "kernelspec": {
   "display_name": "Python 3",
   "language": "python",
   "name": "python3"
  },
  "language_info": {
   "codemirror_mode": {
    "name": "ipython",
    "version": 3
   },
   "file_extension": ".py",
   "mimetype": "text/x-python",
   "name": "python",
   "nbconvert_exporter": "python",
   "pygments_lexer": "ipython3",
   "version": "3.8.8"
  }
 },
 "nbformat": 4,
 "nbformat_minor": 5
}
