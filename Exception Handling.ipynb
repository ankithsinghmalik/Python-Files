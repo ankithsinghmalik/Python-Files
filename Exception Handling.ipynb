{
 "cells": [
  {
   "cell_type": "markdown",
   "id": "d6da2c03",
   "metadata": {},
   "source": [
    "# Exception Handling\n",
    "\n",
    "* Errors/Exception are bound to occur in any programming language\n",
    "* whenever any error/exception occurs the program will abruptly terminate\n",
    "* we need to handle the Exceptions\n",
    "* In python we use try,except,finally blocks to handle the exception"
   ]
  },
  {
   "cell_type": "markdown",
   "id": "5f7db75e",
   "metadata": {},
   "source": [
    "## IN python there are two types of errors\n",
    "* 1) sytnax errors/parsing errors\n",
    "* 2) Exceptions"
   ]
  },
  {
   "cell_type": "code",
   "execution_count": 1,
   "id": "d0017535",
   "metadata": {},
   "outputs": [],
   "source": [
    "# syntax error\n",
    "# as the name suggest, these error occurs when there is error in syntax\n",
    "#this cannot be handled"
   ]
  },
  {
   "cell_type": "code",
   "execution_count": 4,
   "id": "a1028d88",
   "metadata": {},
   "outputs": [
    {
     "ename": "SyntaxError",
     "evalue": "invalid syntax (<ipython-input-4-12a3ab86a426>, line 3)",
     "output_type": "error",
     "traceback": [
      "\u001b[1;36m  File \u001b[1;32m\"<ipython-input-4-12a3ab86a426>\"\u001b[1;36m, line \u001b[1;32m3\u001b[0m\n\u001b[1;33m    if(4>2)\u001b[0m\n\u001b[1;37m           ^\u001b[0m\n\u001b[1;31mSyntaxError\u001b[0m\u001b[1;31m:\u001b[0m invalid syntax\n"
     ]
    }
   ],
   "source": [
    "# syntax error\n",
    "\n",
    "if(4>2)\n",
    "    print('A')"
   ]
  },
  {
   "cell_type": "code",
   "execution_count": 5,
   "id": "4818cc72",
   "metadata": {},
   "outputs": [
    {
     "ename": "SyntaxError",
     "evalue": "invalid syntax (<ipython-input-5-8d732a5556be>, line 4)",
     "output_type": "error",
     "traceback": [
      "\u001b[1;36m  File \u001b[1;32m\"<ipython-input-5-8d732a5556be>\"\u001b[1;36m, line \u001b[1;32m4\u001b[0m\n\u001b[1;33m    if(4>2)\u001b[0m\n\u001b[1;37m           ^\u001b[0m\n\u001b[1;31mSyntaxError\u001b[0m\u001b[1;31m:\u001b[0m invalid syntax\n"
     ]
    }
   ],
   "source": [
    "# cannot be handled using try except\n",
    "\n",
    "try:\n",
    "    if(4>2)\n",
    "        print('a')\n",
    "except:\n",
    "    print(\"EXception\")"
   ]
  },
  {
   "cell_type": "code",
   "execution_count": 6,
   "id": "a0d05be3",
   "metadata": {},
   "outputs": [
    {
     "ename": "IndentationError",
     "evalue": "unexpected indent (<ipython-input-6-22eb5784c21c>, line 4)",
     "output_type": "error",
     "traceback": [
      "\u001b[1;36m  File \u001b[1;32m\"<ipython-input-6-22eb5784c21c>\"\u001b[1;36m, line \u001b[1;32m4\u001b[0m\n\u001b[1;33m    print(\"b\")\u001b[0m\n\u001b[1;37m    ^\u001b[0m\n\u001b[1;31mIndentationError\u001b[0m\u001b[1;31m:\u001b[0m unexpected indent\n"
     ]
    }
   ],
   "source": [
    "#example2\n",
    "\n",
    "print(\"a\")\n",
    "    print(\"b\")"
   ]
  },
  {
   "cell_type": "code",
   "execution_count": 7,
   "id": "da780357",
   "metadata": {},
   "outputs": [],
   "source": [
    "# Exceptions\n",
    "#Any error other than syntax errors are called exception\n",
    "# exception can be handled"
   ]
  },
  {
   "cell_type": "code",
   "execution_count": 8,
   "id": "225cc2d4",
   "metadata": {},
   "outputs": [
    {
     "name": "stdout",
     "output_type": "stream",
     "text": [
      "Hello world\n"
     ]
    },
    {
     "ename": "NameError",
     "evalue": "name 'name' is not defined",
     "output_type": "error",
     "traceback": [
      "\u001b[1;31m---------------------------------------------------------------------------\u001b[0m",
      "\u001b[1;31mNameError\u001b[0m                                 Traceback (most recent call last)",
      "\u001b[1;32m<ipython-input-8-1eecd2535e8b>\u001b[0m in \u001b[0;36m<module>\u001b[1;34m\u001b[0m\n\u001b[0;32m      1\u001b[0m \u001b[0mprint\u001b[0m\u001b[1;33m(\u001b[0m\u001b[1;34m\"Hello world\"\u001b[0m\u001b[1;33m)\u001b[0m\u001b[1;33m\u001b[0m\u001b[1;33m\u001b[0m\u001b[0m\n\u001b[1;32m----> 2\u001b[1;33m \u001b[0mprint\u001b[0m\u001b[1;33m(\u001b[0m\u001b[0mname\u001b[0m\u001b[1;33m)\u001b[0m\u001b[1;33m\u001b[0m\u001b[1;33m\u001b[0m\u001b[0m\n\u001b[0m\u001b[0;32m      3\u001b[0m \u001b[0mprint\u001b[0m\u001b[1;33m(\u001b[0m\u001b[1;34m\"we are working on exception handling\"\u001b[0m\u001b[1;33m)\u001b[0m\u001b[1;33m\u001b[0m\u001b[1;33m\u001b[0m\u001b[0m\n\u001b[0;32m      4\u001b[0m \u001b[0mprint\u001b[0m\u001b[1;33m(\u001b[0m\u001b[1;34m\"thank you\"\u001b[0m\u001b[1;33m)\u001b[0m\u001b[1;33m\u001b[0m\u001b[1;33m\u001b[0m\u001b[0m\n",
      "\u001b[1;31mNameError\u001b[0m: name 'name' is not defined"
     ]
    }
   ],
   "source": [
    "print(\"Hello world\")\n",
    "print(name)\n",
    "print(\"we are working on exception handling\")\n",
    "print(\"thank you\")"
   ]
  },
  {
   "cell_type": "markdown",
   "id": "b90d60fd",
   "metadata": {},
   "source": [
    "## try:\n",
    "* try block will check if there are any exceptions in our code\n",
    "* if suppose exception then we will pass the control of the flow of the code to the exception block\n",
    "* if there is no exception it won't do anything\n",
    "\n",
    "## except:\n",
    "* it is the block which handle the exception\n",
    "* it prevents the abrupt termination of the program"
   ]
  },
  {
   "cell_type": "code",
   "execution_count": 10,
   "id": "0e9ca064",
   "metadata": {},
   "outputs": [
    {
     "name": "stdout",
     "output_type": "stream",
     "text": [
      "Hello world\n",
      "name is not defined\n"
     ]
    }
   ],
   "source": [
    "print(\"Hello world\")\n",
    "\n",
    "try:\n",
    "    print(name)\n",
    "except:\n",
    "    print(\"name is not defined\")\n",
    "\n"
   ]
  },
  {
   "cell_type": "code",
   "execution_count": 11,
   "id": "347cbc8b",
   "metadata": {},
   "outputs": [],
   "source": [
    "#example\n",
    "list1 = [1,2,3,4,5]\n"
   ]
  },
  {
   "cell_type": "code",
   "execution_count": 12,
   "id": "7092fe1b",
   "metadata": {},
   "outputs": [
    {
     "ename": "IndexError",
     "evalue": "list index out of range",
     "output_type": "error",
     "traceback": [
      "\u001b[1;31m---------------------------------------------------------------------------\u001b[0m",
      "\u001b[1;31mIndexError\u001b[0m                                Traceback (most recent call last)",
      "\u001b[1;32m<ipython-input-12-8128137fa2dc>\u001b[0m in \u001b[0;36m<module>\u001b[1;34m\u001b[0m\n\u001b[0;32m      1\u001b[0m \u001b[1;31m#without try and except block\u001b[0m\u001b[1;33m\u001b[0m\u001b[1;33m\u001b[0m\u001b[1;33m\u001b[0m\u001b[0m\n\u001b[0;32m      2\u001b[0m \u001b[0mindex\u001b[0m \u001b[1;33m=\u001b[0m \u001b[1;36m6\u001b[0m\u001b[1;33m\u001b[0m\u001b[1;33m\u001b[0m\u001b[0m\n\u001b[1;32m----> 3\u001b[1;33m \u001b[0melem\u001b[0m \u001b[1;33m=\u001b[0m \u001b[0mlist1\u001b[0m\u001b[1;33m[\u001b[0m\u001b[0mindex\u001b[0m\u001b[1;33m]\u001b[0m\u001b[1;33m\u001b[0m\u001b[1;33m\u001b[0m\u001b[0m\n\u001b[0m\u001b[0;32m      4\u001b[0m \u001b[0mprint\u001b[0m\u001b[1;33m(\u001b[0m\u001b[1;34m\"element : \"\u001b[0m\u001b[1;33m,\u001b[0m \u001b[0melem\u001b[0m\u001b[1;33m)\u001b[0m\u001b[1;33m\u001b[0m\u001b[1;33m\u001b[0m\u001b[0m\n",
      "\u001b[1;31mIndexError\u001b[0m: list index out of range"
     ]
    }
   ],
   "source": [
    "#without try and except block\n",
    "index = 6\n",
    "elem = list1[index]\n",
    "print(\"element : \", elem)"
   ]
  },
  {
   "cell_type": "code",
   "execution_count": 23,
   "id": "0db32320",
   "metadata": {},
   "outputs": [
    {
     "name": "stdout",
     "output_type": "stream",
     "text": [
      "Invalid Index\n"
     ]
    }
   ],
   "source": [
    "#with try and except\n",
    "try:\n",
    "    index = 6\n",
    "    elem = list1[index]\n",
    "    print(\"element : \", elem)\n",
    "except IndexError:\n",
    "    print(\"Invalid Index\")"
   ]
  },
  {
   "cell_type": "markdown",
   "id": "ca727196",
   "metadata": {},
   "source": [
    "# Finally\n",
    "* no matter if the exception occurs or not this block will compulsorily get executed"
   ]
  },
  {
   "cell_type": "code",
   "execution_count": 14,
   "id": "30ac7084",
   "metadata": {},
   "outputs": [
    {
     "data": {
      "text/plain": [
       "'\\nsyntax\\n\\ntry:\\n    statement1\\n    statement2\\nexcept:\\n    statement1\\n    statement2\\n    \\nfinally:\\n    statement1\\n    statement2\\n'"
      ]
     },
     "execution_count": 14,
     "metadata": {},
     "output_type": "execute_result"
    }
   ],
   "source": [
    "'''\n",
    "syntax\n",
    "\n",
    "try:\n",
    "    statement1\n",
    "    statement2\n",
    "except:\n",
    "    statement1\n",
    "    statement2\n",
    "    \n",
    "finally:\n",
    "    statement1\n",
    "    statement2\n",
    "'''"
   ]
  },
  {
   "cell_type": "code",
   "execution_count": 16,
   "id": "91630277",
   "metadata": {},
   "outputs": [
    {
     "name": "stdout",
     "output_type": "stream",
     "text": [
      "Invalid Index\n",
      "The code has been executed\n",
      "End of program\n"
     ]
    }
   ],
   "source": [
    "# example 3\n",
    "\n",
    "#with try, except and finally\n",
    "\n",
    "try:\n",
    "    index = 6\n",
    "    elem = list1[index]\n",
    "    print(\"element : \", elem)\n",
    "except:\n",
    "    print(\"Invalid Index\")\n",
    "\n",
    "finally:\n",
    "    print(\"The code has been executed\")\n",
    "    print(\"End of program\")\n"
   ]
  },
  {
   "cell_type": "code",
   "execution_count": 26,
   "id": "40ad85ad",
   "metadata": {},
   "outputs": [
    {
     "name": "stdout",
     "output_type": "stream",
     "text": [
      "Start of the program\n",
      "Enter the numerator: 100\n",
      "Enter the denominator: 10\n",
      "Numerator = 100, denominator = 10\n",
      "result 10.0\n",
      "Ënd of the program\n"
     ]
    }
   ],
   "source": [
    "# example: dividing two numbers with multiple except blocks\n",
    "\n",
    "print(\"Start of the program\")\n",
    "\n",
    "try:\n",
    "    num1 = int(input(\"Enter the numerator: \"))\n",
    "    num2 = int(input(\"Enter the denominator: \"))\n",
    "    \n",
    "    print('Numerator = {}, denominator = {}'.format(num1,num2))\n",
    "    \n",
    "    result = num1/num2\n",
    "    print(\"result\", result)\n",
    "    \n",
    "except ZeroDivisionError:\n",
    "    print(\"Enter a non zero as  denominator \")\n",
    "    \n",
    "except ValueError:\n",
    "    print(\"Please enter the numbers only\")\n",
    "    \n",
    "except:\n",
    "    print(\"Something went wrong\")\n",
    "    \n",
    "finally:\n",
    "    print(\"Ënd of the program\")"
   ]
  },
  {
   "cell_type": "code",
   "execution_count": 20,
   "id": "a4824494",
   "metadata": {},
   "outputs": [
    {
     "ename": "ZeroDivisionError",
     "evalue": "division by zero",
     "output_type": "error",
     "traceback": [
      "\u001b[1;31m---------------------------------------------------------------------------\u001b[0m",
      "\u001b[1;31mZeroDivisionError\u001b[0m                         Traceback (most recent call last)",
      "\u001b[1;32m<ipython-input-20-898e9759c56e>\u001b[0m in \u001b[0;36m<module>\u001b[1;34m\u001b[0m\n\u001b[1;32m----> 1\u001b[1;33m \u001b[1;36m12\u001b[0m\u001b[1;33m/\u001b[0m\u001b[1;36m0\u001b[0m\u001b[1;33m\u001b[0m\u001b[1;33m\u001b[0m\u001b[0m\n\u001b[0m",
      "\u001b[1;31mZeroDivisionError\u001b[0m: division by zero"
     ]
    }
   ],
   "source": [
    "12/0 #error"
   ]
  },
  {
   "cell_type": "code",
   "execution_count": null,
   "id": "bc3a06e3",
   "metadata": {},
   "outputs": [],
   "source": [
    "# TASK:\n",
    "# 1. take a input as a list of numbers from user atleast 8-10 numbers and find the two least numbers and add them and give the output\n",
    "# * for that handle exceptions\n",
    "# 2. Factorial , Fibonacci using python\n",
    "# 3. Using try and except block , write a code which take input from user and check whether that number is divisible by 2 or not\n",
    "# 4. take a input as a list of numbers from user atleast 8-10 numbers and find the one least number and one maximum and add them and give the output"
   ]
  }
 ],
 "metadata": {
  "kernelspec": {
   "display_name": "Python 3",
   "language": "python",
   "name": "python3"
  },
  "language_info": {
   "codemirror_mode": {
    "name": "ipython",
    "version": 3
   },
   "file_extension": ".py",
   "mimetype": "text/x-python",
   "name": "python",
   "nbconvert_exporter": "python",
   "pygments_lexer": "ipython3",
   "version": "3.8.8"
  }
 },
 "nbformat": 4,
 "nbformat_minor": 5
}
