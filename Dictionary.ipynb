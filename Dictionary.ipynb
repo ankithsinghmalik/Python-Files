{
 "cells": [
  {
   "cell_type": "markdown",
   "id": "55adf324",
   "metadata": {},
   "source": [
    "# Dictionaries\n",
    "\n",
    "In python dictionaries are written with curly brackets and they have key value pairs"
   ]
  },
  {
   "cell_type": "code",
   "execution_count": 1,
   "id": "d97ab0d2",
   "metadata": {},
   "outputs": [],
   "source": [
    "# points\n",
    "# we can store different datatypes\n",
    "# order doesn't matter here\n",
    "# keys should be unique\n",
    "# mutable"
   ]
  },
  {
   "cell_type": "code",
   "execution_count": 15,
   "id": "09978bd7",
   "metadata": {},
   "outputs": [],
   "source": [
    "dict1 = {\n",
    "    'Name': \"Rajesh\",\n",
    "    'age': 22,\n",
    "    'annual_income': 3000000,\n",
    "    'brother/sister': True\n",
    "}"
   ]
  },
  {
   "cell_type": "code",
   "execution_count": 16,
   "id": "719b6418",
   "metadata": {},
   "outputs": [
    {
     "name": "stdout",
     "output_type": "stream",
     "text": [
      "{'Name': 'Rajesh', 'age': 22, 'annual_income': 3000000, 'brother/sister': True}\n"
     ]
    }
   ],
   "source": [
    "print(dict1)"
   ]
  },
  {
   "cell_type": "code",
   "execution_count": 12,
   "id": "abfa772b",
   "metadata": {},
   "outputs": [
    {
     "data": {
      "text/plain": [
       "4"
      ]
     },
     "execution_count": 12,
     "metadata": {},
     "output_type": "execute_result"
    }
   ],
   "source": [
    "len(dict1)"
   ]
  },
  {
   "cell_type": "markdown",
   "id": "f1bb4f60",
   "metadata": {},
   "source": [
    "# Accessing elements using the keys"
   ]
  },
  {
   "cell_type": "code",
   "execution_count": 22,
   "id": "87d533cd",
   "metadata": {},
   "outputs": [],
   "source": [
    "# 1 accessing person name\n",
    "x = dict1['Name']"
   ]
  },
  {
   "cell_type": "code",
   "execution_count": 23,
   "id": "ca5ebe74",
   "metadata": {},
   "outputs": [
    {
     "data": {
      "text/plain": [
       "'Rajesh'"
      ]
     },
     "execution_count": 23,
     "metadata": {},
     "output_type": "execute_result"
    }
   ],
   "source": [
    "x"
   ]
  },
  {
   "cell_type": "code",
   "execution_count": 24,
   "id": "8097a69c",
   "metadata": {},
   "outputs": [
    {
     "data": {
      "text/plain": [
       "22"
      ]
     },
     "execution_count": 24,
     "metadata": {},
     "output_type": "execute_result"
    }
   ],
   "source": [
    "# accessing elements using the .get(keyname)method\n",
    "\n",
    "x = dict1.get('age')\n",
    "x"
   ]
  },
  {
   "cell_type": "code",
   "execution_count": 25,
   "id": "31118e52",
   "metadata": {},
   "outputs": [
    {
     "data": {
      "text/plain": [
       "{'Name': 'Rajesh', 'age': 24, 'annual_income': 3000000, 'brother/sister': True}"
      ]
     },
     "execution_count": 25,
     "metadata": {},
     "output_type": "execute_result"
    }
   ],
   "source": [
    "# change or update any values\n",
    "# update rajesh age\n",
    "\n",
    "dict1['age'] = 24\n",
    "dict1"
   ]
  },
  {
   "cell_type": "code",
   "execution_count": 27,
   "id": "f8f01e0a",
   "metadata": {},
   "outputs": [
    {
     "name": "stdout",
     "output_type": "stream",
     "text": [
      "['Name', 'age', 'annual_income', 'brother/sister']\n"
     ]
    }
   ],
   "source": [
    "# keys() method to get the keys of your dictionary\n",
    "\n",
    "keys = list(dict1.keys())\n",
    "print(keys)"
   ]
  },
  {
   "cell_type": "code",
   "execution_count": 28,
   "id": "062833d0",
   "metadata": {},
   "outputs": [
    {
     "data": {
      "text/plain": [
       "True"
      ]
     },
     "execution_count": 28,
     "metadata": {},
     "output_type": "execute_result"
    }
   ],
   "source": [
    "dict1.get('brother/sister')"
   ]
  },
  {
   "cell_type": "code",
   "execution_count": 29,
   "id": "33e2dacf",
   "metadata": {},
   "outputs": [
    {
     "name": "stdout",
     "output_type": "stream",
     "text": [
      "['Rajesh', 24, 3000000, True]\n"
     ]
    }
   ],
   "source": [
    "# get values of a particular dictionary using the values() method\n",
    "\n",
    "vals = list(dict1.values())\n",
    "print(vals)"
   ]
  },
  {
   "cell_type": "code",
   "execution_count": 30,
   "id": "caa6a029",
   "metadata": {},
   "outputs": [
    {
     "name": "stdout",
     "output_type": "stream",
     "text": [
      "[('Name', 'Rajesh'), ('age', 24), ('annual_income', 3000000), ('brother/sister', True)]\n"
     ]
    }
   ],
   "source": [
    "# the items() method will fetch you both keys and values\n",
    "\n",
    "items = list(dict1.items())\n",
    "print(items)"
   ]
  },
  {
   "cell_type": "markdown",
   "id": "3d749df2",
   "metadata": {},
   "source": [
    "# Adding items to an existing dictionary"
   ]
  },
  {
   "cell_type": "code",
   "execution_count": 31,
   "id": "93b02e7c",
   "metadata": {},
   "outputs": [],
   "source": [
    "#adding the experience\n",
    "dict1['Experience'] = 2"
   ]
  },
  {
   "cell_type": "code",
   "execution_count": 32,
   "id": "b611ed32",
   "metadata": {},
   "outputs": [
    {
     "data": {
      "text/plain": [
       "{'Name': 'Rajesh',\n",
       " 'age': 24,\n",
       " 'annual_income': 3000000,\n",
       " 'brother/sister': True,\n",
       " 'Experience': 2}"
      ]
     },
     "execution_count": 32,
     "metadata": {},
     "output_type": "execute_result"
    }
   ],
   "source": [
    "dict1"
   ]
  },
  {
   "cell_type": "code",
   "execution_count": 33,
   "id": "32e8198f",
   "metadata": {},
   "outputs": [],
   "source": [
    "# add the role\n",
    "\n",
    "dict1['Role'] = 'Full Stack Developer'"
   ]
  },
  {
   "cell_type": "code",
   "execution_count": 36,
   "id": "711e495a",
   "metadata": {},
   "outputs": [],
   "source": [
    "dict1['Name'] = 'Rajesh'"
   ]
  },
  {
   "cell_type": "code",
   "execution_count": 38,
   "id": "01339cf7",
   "metadata": {},
   "outputs": [
    {
     "data": {
      "text/plain": [
       "{'age': 24,\n",
       " 'annual_income': 3000000,\n",
       " 'brother/sister': True,\n",
       " 'Experience': 2,\n",
       " 'Role': 'Full Stack Developer'}"
      ]
     },
     "execution_count": 38,
     "metadata": {},
     "output_type": "execute_result"
    }
   ],
   "source": [
    "dict1.pop('Name')\n",
    "dict1"
   ]
  },
  {
   "cell_type": "code",
   "execution_count": 40,
   "id": "4c842aca",
   "metadata": {},
   "outputs": [
    {
     "data": {
      "text/plain": [
       "{'age': 24,\n",
       " 'annual_income': 3000000,\n",
       " 'brother/sister': True,\n",
       " 'Experience': 2,\n",
       " 'Role': 'Full Stack Developer',\n",
       " 'Name': 'Rajesh'}"
      ]
     },
     "execution_count": 40,
     "metadata": {},
     "output_type": "execute_result"
    }
   ],
   "source": [
    "dict1['Name'] = 'Rajesh'\n",
    "dict1"
   ]
  },
  {
   "cell_type": "code",
   "execution_count": 41,
   "id": "61ebae1b",
   "metadata": {},
   "outputs": [],
   "source": [
    "# removing the key using the del function \n",
    "\n",
    "del dict1['Name']"
   ]
  },
  {
   "cell_type": "code",
   "execution_count": 42,
   "id": "7ca94f47",
   "metadata": {},
   "outputs": [
    {
     "data": {
      "text/plain": [
       "{'age': 24,\n",
       " 'annual_income': 3000000,\n",
       " 'brother/sister': True,\n",
       " 'Experience': 2,\n",
       " 'Role': 'Full Stack Developer'}"
      ]
     },
     "execution_count": 42,
     "metadata": {},
     "output_type": "execute_result"
    }
   ],
   "source": [
    "dict1"
   ]
  },
  {
   "cell_type": "code",
   "execution_count": 43,
   "id": "f379b9b0",
   "metadata": {},
   "outputs": [
    {
     "name": "stdout",
     "output_type": "stream",
     "text": [
      "{'age': 24, 'annual_income': 3000000, 'brother/sister': True, 'Experience': 2}\n"
     ]
    }
   ],
   "source": [
    "# popitem() removes the last inserted item\n",
    "\n",
    "dict1.popitem()\n",
    "print(dict1)"
   ]
  },
  {
   "cell_type": "code",
   "execution_count": 44,
   "id": "ffe3a5f2",
   "metadata": {},
   "outputs": [],
   "source": [
    "dict2 = dict1.copy()"
   ]
  },
  {
   "cell_type": "code",
   "execution_count": 45,
   "id": "ff22682d",
   "metadata": {},
   "outputs": [
    {
     "data": {
      "text/plain": [
       "{}"
      ]
     },
     "execution_count": 45,
     "metadata": {},
     "output_type": "execute_result"
    }
   ],
   "source": [
    "dict1.clear()\n",
    "dict1"
   ]
  },
  {
   "cell_type": "code",
   "execution_count": 52,
   "id": "08186735",
   "metadata": {},
   "outputs": [],
   "source": [
    "# inserting multiple values for a key\n",
    "dict2['annual_income'] = [3000000, 2500000, 34000000]"
   ]
  },
  {
   "cell_type": "code",
   "execution_count": 53,
   "id": "69005155",
   "metadata": {},
   "outputs": [
    {
     "name": "stdout",
     "output_type": "stream",
     "text": [
      "{'age': 24, 'annual_income': [3000000, 2500000, 34000000], 'brother/sister': True, 'Experience': 2, 'Role': ['Full Stack Developer', 'Machine learning engineer', 'python developer']}\n"
     ]
    }
   ],
   "source": [
    "print(dict2)"
   ]
  },
  {
   "cell_type": "markdown",
   "id": "8a8d9221",
   "metadata": {},
   "source": [
    "# Nested Dictionary"
   ]
  },
  {
   "cell_type": "code",
   "execution_count": 54,
   "id": "2563c9f3",
   "metadata": {},
   "outputs": [],
   "source": [
    "person1 = {'Name': 'Rahul',\n",
    "          'year': 1998}\n",
    "\n",
    "person2 = {'Name': 'Rajesh',\n",
    "          'year': 1997}\n",
    "\n",
    "dict3 = {\n",
    "    \n",
    "\"1st person\": person1,\n",
    "    \"2nd person\": person2\n",
    "}"
   ]
  },
  {
   "cell_type": "code",
   "execution_count": 55,
   "id": "6945fcb9",
   "metadata": {},
   "outputs": [
    {
     "data": {
      "text/plain": [
       "{'1st person': {'Name': 'Rahul', 'year': 1998},\n",
       " '2nd person': {'Name': 'Rajesh', 'year': 1997}}"
      ]
     },
     "execution_count": 55,
     "metadata": {},
     "output_type": "execute_result"
    }
   ],
   "source": [
    "dict3"
   ]
  },
  {
   "cell_type": "code",
   "execution_count": 62,
   "id": "5e7ab87f",
   "metadata": {},
   "outputs": [
    {
     "name": "stdout",
     "output_type": "stream",
     "text": [
      "{'1st person': {'Name': 'Rahul', 'year': 1998, 'profession': ['python developer', 'ml engineer', 'java developer', 'data scientist']}, '2nd person': {'Name': 'Rajesh', 'year': 1997, 'profession': ['nlp engineer', 'computer vision engineer']}}\n"
     ]
    }
   ],
   "source": [
    "dict4 = {\n",
    "    '1st person': {'Name': 'Rahul',\n",
    "          'year': 1998,\n",
    "                  \n",
    "            'profession': ['python developer', 'ml engineer','java developer','data scientist']},\n",
    "    \n",
    "      '2nd person':  {'Name': 'Rajesh',\n",
    "          'year': 1997,\n",
    "                     \n",
    "        'profession': ['nlp engineer','computer vision engineer']}\n",
    "          \n",
    "}\n",
    "print(dict4)\n",
    "    \n"
   ]
  },
  {
   "cell_type": "code",
   "execution_count": 58,
   "id": "5f316df2",
   "metadata": {},
   "outputs": [
    {
     "data": {
      "text/plain": [
       "{'Name': 'Rahul',\n",
       " 'year': 1998,\n",
       " 'profession': ['python developer', 'ml engineer']}"
      ]
     },
     "execution_count": 58,
     "metadata": {},
     "output_type": "execute_result"
    }
   ],
   "source": [
    "dict4['1st person']"
   ]
  },
  {
   "cell_type": "code",
   "execution_count": 59,
   "id": "1b8ac8ab",
   "metadata": {},
   "outputs": [
    {
     "data": {
      "text/plain": [
       "'Rahul'"
      ]
     },
     "execution_count": 59,
     "metadata": {},
     "output_type": "execute_result"
    }
   ],
   "source": [
    "# accessing the name of 1st person\n",
    "\n",
    "dict4['1st person']['Name']"
   ]
  },
  {
   "cell_type": "code",
   "execution_count": 60,
   "id": "5a28ad39",
   "metadata": {},
   "outputs": [
    {
     "data": {
      "text/plain": [
       "['nlp engineer', 'computer vision engineer']"
      ]
     },
     "execution_count": 60,
     "metadata": {},
     "output_type": "execute_result"
    }
   ],
   "source": [
    "# accessing the profession of 2nd person\n",
    "\n",
    "dict4['2nd person']['profession']"
   ]
  },
  {
   "cell_type": "code",
   "execution_count": 69,
   "id": "8191623d",
   "metadata": {},
   "outputs": [
    {
     "data": {
      "text/plain": [
       "['python developer', 'java developer']"
      ]
     },
     "execution_count": 69,
     "metadata": {},
     "output_type": "execute_result"
    }
   ],
   "source": [
    "\n",
    "dict4['1st person']['profession'][0::2]"
   ]
  },
  {
   "cell_type": "code",
   "execution_count": 65,
   "id": "e6b6c081",
   "metadata": {},
   "outputs": [
    {
     "data": {
      "text/plain": [
       "['python developer', 'ml engineer', 'java developer']"
      ]
     },
     "execution_count": 65,
     "metadata": {},
     "output_type": "execute_result"
    }
   ],
   "source": [
    "\n",
    "dict4['1st person']['profession'][0:3]"
   ]
  },
  {
   "cell_type": "code",
   "execution_count": 70,
   "id": "2307fc77",
   "metadata": {},
   "outputs": [],
   "source": [
    "dict5 = {\n",
    "    'may_batch':{\n",
    "        'Student':{\n",
    "            \"Name\": \"Mike\",\n",
    "            \"marks\":{\n",
    "            'python': 95,\n",
    "            'math': 88,\n",
    "            'full stack' : 90\n",
    "            }\n",
    "     }\n",
    "    }\n",
    "}"
   ]
  },
  {
   "cell_type": "code",
   "execution_count": 71,
   "id": "c3613b0d",
   "metadata": {},
   "outputs": [
    {
     "data": {
      "text/plain": [
       "{'may_batch': {'Student': {'Name': 'Mike',\n",
       "   'marks': {'python': 95, 'math': 88, 'full stack': 90}}}}"
      ]
     },
     "execution_count": 71,
     "metadata": {},
     "output_type": "execute_result"
    }
   ],
   "source": [
    "dict5"
   ]
  },
  {
   "cell_type": "code",
   "execution_count": null,
   "id": "b233af11",
   "metadata": {},
   "outputs": [],
   "source": [
    "# In the above dictionary\n",
    "\n",
    "# 1. Access Name Mike\n",
    "# 2. Access the value 88 or marks scored in math\n",
    "# 3. Change the name mike to your name\n",
    "# 4. Add Science = 80 , English = 93"
   ]
  }
 ],
 "metadata": {
  "kernelspec": {
   "display_name": "Python 3",
   "language": "python",
   "name": "python3"
  },
  "language_info": {
   "codemirror_mode": {
    "name": "ipython",
    "version": 3
   },
   "file_extension": ".py",
   "mimetype": "text/x-python",
   "name": "python",
   "nbconvert_exporter": "python",
   "pygments_lexer": "ipython3",
   "version": "3.8.8"
  }
 },
 "nbformat": 4,
 "nbformat_minor": 5
}
