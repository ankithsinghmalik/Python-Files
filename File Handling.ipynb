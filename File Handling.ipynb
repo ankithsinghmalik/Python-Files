{
 "cells": [
  {
   "cell_type": "markdown",
   "id": "77dd4c78",
   "metadata": {},
   "source": [
    "# File Handling\n",
    "\n",
    "### python supports file handling and allows user to handle files i.e, read and write the files\n",
    "### we use open() function to do the file handling in python"
   ]
  },
  {
   "cell_type": "code",
   "execution_count": null,
   "id": "cf954014",
   "metadata": {},
   "outputs": [],
   "source": [
    "# open() function\n",
    "\n",
    "'''\n",
    "syntax \n",
    "\n",
    "open(filename, mode)\n",
    "\n",
    "filename --> name of the file \n",
    "mode --> mode is used to specify what action you want to perform on that particular file which you are calling\n",
    "\n",
    "mode can take following vlaues:\n",
    "\n",
    "\"r\" - Read- Default\n",
    "\n",
    "if the file is present the it open the file for reading , else it will throw an error\n",
    "\n",
    "\"a\" - Append\n",
    "\n",
    "If the file is present, it opens the file for appending. Else create a new file\n",
    "\n",
    "\"w\" - write\n",
    "\n",
    "If the file is present, it opens the file for writing.Else creates the new file\n",
    "\n",
    "\"x\" - Create \n",
    "\n",
    "It will create a  new file,returns an error if the file is already present\n",
    "\n",
    "'''"
   ]
  },
  {
   "cell_type": "code",
   "execution_count": 1,
   "id": "3c3a000d",
   "metadata": {},
   "outputs": [],
   "source": [
    "# create a new file \n",
    "\n",
    "file = open(\"python.txt\",\"x\")"
   ]
  },
  {
   "cell_type": "code",
   "execution_count": 8,
   "id": "07e9afac",
   "metadata": {},
   "outputs": [],
   "source": [
    "file = open(\"python.txt\",'a')"
   ]
  },
  {
   "cell_type": "code",
   "execution_count": 9,
   "id": "bc023ed5",
   "metadata": {},
   "outputs": [],
   "source": [
    "file.write(\"This is a python programming class\")\n",
    "file.close()"
   ]
  },
  {
   "cell_type": "code",
   "execution_count": 11,
   "id": "0e965c51",
   "metadata": {},
   "outputs": [],
   "source": [
    "file = open(\"python.txt\",\"r\")"
   ]
  },
  {
   "cell_type": "code",
   "execution_count": 12,
   "id": "a0bb96c4",
   "metadata": {},
   "outputs": [
    {
     "data": {
      "text/plain": [
       "'This is a python programming classThis is a python programming class'"
      ]
     },
     "execution_count": 12,
     "metadata": {},
     "output_type": "execute_result"
    }
   ],
   "source": [
    "file.read()"
   ]
  },
  {
   "cell_type": "code",
   "execution_count": 5,
   "id": "9a6a2506",
   "metadata": {},
   "outputs": [],
   "source": [
    "# opening a file\n",
    "\n",
    "file = open(\"C:/Users/mvcc1/Documents/bahadur singh/python1.txt\",'r')"
   ]
  },
  {
   "cell_type": "code",
   "execution_count": 6,
   "id": "86b57e44",
   "metadata": {},
   "outputs": [
    {
     "data": {
      "text/plain": [
       "'This is a python class\\nwe are learning file handling \\nwe have seen how to open a fie'"
      ]
     },
     "execution_count": 6,
     "metadata": {},
     "output_type": "execute_result"
    }
   ],
   "source": [
    "# to read a file wile use the .read() function\n",
    "file.read()"
   ]
  },
  {
   "cell_type": "code",
   "execution_count": 7,
   "id": "65af1864",
   "metadata": {},
   "outputs": [
    {
     "data": {
      "text/plain": [
       "0"
      ]
     },
     "execution_count": 7,
     "metadata": {},
     "output_type": "execute_result"
    }
   ],
   "source": [
    "file.seek(0)"
   ]
  },
  {
   "cell_type": "code",
   "execution_count": 8,
   "id": "0c2abf40",
   "metadata": {},
   "outputs": [
    {
     "data": {
      "text/plain": [
       "'This is a python class\\n'"
      ]
     },
     "execution_count": 8,
     "metadata": {},
     "output_type": "execute_result"
    }
   ],
   "source": [
    "# to read a line we have a function called .readline()\n",
    "file.readline()"
   ]
  },
  {
   "cell_type": "code",
   "execution_count": 9,
   "id": "3cf6e051",
   "metadata": {},
   "outputs": [
    {
     "data": {
      "text/plain": [
       "'we are learning file handling \\n'"
      ]
     },
     "execution_count": 9,
     "metadata": {},
     "output_type": "execute_result"
    }
   ],
   "source": [
    "file.readline()"
   ]
  },
  {
   "cell_type": "code",
   "execution_count": 11,
   "id": "56905020",
   "metadata": {},
   "outputs": [
    {
     "data": {
      "text/plain": [
       "'we have seen how to open a fie'"
      ]
     },
     "execution_count": 11,
     "metadata": {},
     "output_type": "execute_result"
    }
   ],
   "source": [
    "file.readline()"
   ]
  },
  {
   "cell_type": "code",
   "execution_count": 13,
   "id": "4dde5e5a",
   "metadata": {},
   "outputs": [
    {
     "data": {
      "text/plain": [
       "0"
      ]
     },
     "execution_count": 13,
     "metadata": {},
     "output_type": "execute_result"
    }
   ],
   "source": [
    "file.seek(0)"
   ]
  },
  {
   "cell_type": "code",
   "execution_count": 14,
   "id": "0da48036",
   "metadata": {},
   "outputs": [
    {
     "name": "stdout",
     "output_type": "stream",
     "text": [
      "This is a python class\n",
      "\n",
      "we are learning file handling \n",
      "\n",
      "we have seen how to open a fie\n"
     ]
    }
   ],
   "source": [
    "# you can use for loop to read all the lines\n",
    "for line in file:\n",
    "    print(line)"
   ]
  },
  {
   "cell_type": "code",
   "execution_count": 15,
   "id": "f3f09db5",
   "metadata": {},
   "outputs": [
    {
     "data": {
      "text/plain": [
       "0"
      ]
     },
     "execution_count": 15,
     "metadata": {},
     "output_type": "execute_result"
    }
   ],
   "source": [
    "file.seek(0)"
   ]
  },
  {
   "cell_type": "code",
   "execution_count": 16,
   "id": "660552b7",
   "metadata": {},
   "outputs": [
    {
     "name": "stdout",
     "output_type": "stream",
     "text": [
      "['This is a python class\\n', 'we are learning file handling \\n', 'we have seen how to open a fie']\n"
     ]
    }
   ],
   "source": [
    "# To read a particular lines\n",
    "list1 = file.readlines()\n",
    "print(list1)"
   ]
  },
  {
   "cell_type": "code",
   "execution_count": 17,
   "id": "b2cae3e7",
   "metadata": {},
   "outputs": [
    {
     "name": "stdout",
     "output_type": "stream",
     "text": [
      "we have seen how to open a fie\n"
     ]
    }
   ],
   "source": [
    "#to get the last line\n",
    "print(list1[-1])"
   ]
  },
  {
   "cell_type": "markdown",
   "id": "9641f853",
   "metadata": {},
   "source": [
    "## Note: Whenever you are finished with the task of working on a particular file it is a good practice to close the file\n",
    "\n",
    "### To close the file we use .close() method"
   ]
  },
  {
   "cell_type": "code",
   "execution_count": 18,
   "id": "8b19758b",
   "metadata": {},
   "outputs": [],
   "source": [
    "file.close()"
   ]
  },
  {
   "cell_type": "code",
   "execution_count": 19,
   "id": "7371f929",
   "metadata": {},
   "outputs": [
    {
     "ename": "ValueError",
     "evalue": "I/O operation on closed file.",
     "output_type": "error",
     "traceback": [
      "\u001b[1;31m---------------------------------------------------------------------------\u001b[0m",
      "\u001b[1;31mValueError\u001b[0m                                Traceback (most recent call last)",
      "\u001b[1;32m<ipython-input-19-c545847e0726>\u001b[0m in \u001b[0;36m<module>\u001b[1;34m\u001b[0m\n\u001b[0;32m      1\u001b[0m \u001b[1;31m#you cannot perform any operation on closed files\u001b[0m\u001b[1;33m\u001b[0m\u001b[1;33m\u001b[0m\u001b[1;33m\u001b[0m\u001b[0m\n\u001b[1;32m----> 2\u001b[1;33m \u001b[0mfile\u001b[0m\u001b[1;33m.\u001b[0m\u001b[0mread\u001b[0m\u001b[1;33m(\u001b[0m\u001b[1;33m)\u001b[0m\u001b[1;33m\u001b[0m\u001b[1;33m\u001b[0m\u001b[0m\n\u001b[0m",
      "\u001b[1;31mValueError\u001b[0m: I/O operation on closed file."
     ]
    }
   ],
   "source": [
    "#you cannot perform any operation on closed files\n",
    "file.read() # error"
   ]
  },
  {
   "cell_type": "markdown",
   "id": "cfdaeaf1",
   "metadata": {},
   "source": [
    "2) To write to an existing file\n",
    "* we use write() method to write to a file\n",
    "* use mode = 'a' - append\n",
    "* use mode = 'w' - write"
   ]
  },
  {
   "cell_type": "code",
   "execution_count": 20,
   "id": "de543a18",
   "metadata": {},
   "outputs": [
    {
     "data": {
      "text/plain": [
       "30"
      ]
     },
     "execution_count": 20,
     "metadata": {},
     "output_type": "execute_result"
    }
   ],
   "source": [
    "# Appending one line\n",
    "# example\n",
    "file = open(\"C:/Users/mvcc1/Documents/bahadur singh/python1.txt\",'a')\n",
    "file.write(\"today's date is 17th june 2021\")\n"
   ]
  },
  {
   "cell_type": "code",
   "execution_count": 21,
   "id": "beb066a0",
   "metadata": {},
   "outputs": [],
   "source": [
    "file.close()"
   ]
  },
  {
   "cell_type": "code",
   "execution_count": 22,
   "id": "6ba73bd7",
   "metadata": {},
   "outputs": [
    {
     "name": "stdout",
     "output_type": "stream",
     "text": [
      "This is a python class\n",
      "we are learning file handling \n",
      "we have seen how to open a fietoday's date is 17th june 2021\n"
     ]
    }
   ],
   "source": [
    "file = open(\"C:/Users/mvcc1/Documents/bahadur singh/python1.txt\")\n",
    "print(file.read())\n",
    "file.close()"
   ]
  },
  {
   "cell_type": "code",
   "execution_count": 23,
   "id": "01ed6a30",
   "metadata": {},
   "outputs": [],
   "source": [
    "#example2\n",
    "file = open(\"C:/Users/mvcc1/Documents/bahadur singh/python1.txt\",'a')\n",
    "file.write(\"\\ntoday's date is 17th june 2021\")\n",
    "file.close()"
   ]
  },
  {
   "cell_type": "code",
   "execution_count": 24,
   "id": "247f87c1",
   "metadata": {},
   "outputs": [
    {
     "name": "stdout",
     "output_type": "stream",
     "text": [
      "This is a python class\n",
      "we are learning file handling \n",
      "we have seen how to open a fietoday's date is 17th june 2021\n",
      "today's date is 17th june 2021\n"
     ]
    }
   ],
   "source": [
    "file = open(\"C:/Users/mvcc1/Documents/bahadur singh/python1.txt\")\n",
    "print(file.read())\n",
    "file.close()"
   ]
  },
  {
   "cell_type": "code",
   "execution_count": 25,
   "id": "eb0c99c8",
   "metadata": {},
   "outputs": [],
   "source": [
    "#writing over an existing file\n",
    "file = open(\"C:/Users/mvcc1/Documents/bahadur singh/python1.txt\",'w')\n",
    "file.write(\"This is a new sentence of my existing file\")\n",
    "file.close()"
   ]
  },
  {
   "cell_type": "code",
   "execution_count": 26,
   "id": "9860ac2e",
   "metadata": {},
   "outputs": [
    {
     "name": "stdout",
     "output_type": "stream",
     "text": [
      "This is a new sentence of my existing file\n"
     ]
    }
   ],
   "source": [
    "file = open(\"C:/Users/mvcc1/Documents/bahadur singh/python1.txt\")\n",
    "print(file.read())\n",
    "file.close()"
   ]
  },
  {
   "cell_type": "markdown",
   "id": "7eac27ad",
   "metadata": {},
   "source": [
    "# With statement\n",
    "### when we use with statement for handling files,all the cleanup will be automatically done"
   ]
  },
  {
   "cell_type": "code",
   "execution_count": null,
   "id": "ad38c5c9",
   "metadata": {},
   "outputs": [],
   "source": [
    "'''\n",
    "syntax\n",
    "\n",
    "with open(filename,mode) as file:\n",
    "    do read/write operations\n",
    "'''"
   ]
  },
  {
   "cell_type": "code",
   "execution_count": 27,
   "id": "a27383bc",
   "metadata": {},
   "outputs": [
    {
     "name": "stdout",
     "output_type": "stream",
     "text": [
      "This is a new sentence of my existing file\n"
     ]
    }
   ],
   "source": [
    "# example 1 reading the files using with open\n",
    "with open(\"C:/Users/mvcc1/Documents/bahadur singh/python1.txt\") as file:\n",
    "    data = file.read()\n",
    "    print(data)"
   ]
  },
  {
   "cell_type": "code",
   "execution_count": 28,
   "id": "8f35b2ce",
   "metadata": {},
   "outputs": [
    {
     "ename": "ValueError",
     "evalue": "I/O operation on closed file.",
     "output_type": "error",
     "traceback": [
      "\u001b[1;31m---------------------------------------------------------------------------\u001b[0m",
      "\u001b[1;31mValueError\u001b[0m                                Traceback (most recent call last)",
      "\u001b[1;32m<ipython-input-28-f3fc120c03c1>\u001b[0m in \u001b[0;36m<module>\u001b[1;34m\u001b[0m\n\u001b[1;32m----> 1\u001b[1;33m \u001b[0mfile\u001b[0m\u001b[1;33m.\u001b[0m\u001b[0mread\u001b[0m\u001b[1;33m(\u001b[0m\u001b[1;33m)\u001b[0m\u001b[1;33m\u001b[0m\u001b[1;33m\u001b[0m\u001b[0m\n\u001b[0m",
      "\u001b[1;31mValueError\u001b[0m: I/O operation on closed file."
     ]
    }
   ],
   "source": [
    "file.read() # error because the file is already closed"
   ]
  },
  {
   "cell_type": "code",
   "execution_count": 29,
   "id": "7deedd39",
   "metadata": {},
   "outputs": [],
   "source": [
    "# example 2 to append using the with open\n",
    "with open(\"C:/Users/mvcc1/Documents/bahadur singh/python1.txt\",'a') as file:\n",
    "    file.write('\\n tomorrow is a wtc finals')"
   ]
  },
  {
   "cell_type": "code",
   "execution_count": 30,
   "id": "2e75d778",
   "metadata": {},
   "outputs": [
    {
     "ename": "ValueError",
     "evalue": "I/O operation on closed file.",
     "output_type": "error",
     "traceback": [
      "\u001b[1;31m---------------------------------------------------------------------------\u001b[0m",
      "\u001b[1;31mValueError\u001b[0m                                Traceback (most recent call last)",
      "\u001b[1;32m<ipython-input-30-f3fc120c03c1>\u001b[0m in \u001b[0;36m<module>\u001b[1;34m\u001b[0m\n\u001b[1;32m----> 1\u001b[1;33m \u001b[0mfile\u001b[0m\u001b[1;33m.\u001b[0m\u001b[0mread\u001b[0m\u001b[1;33m(\u001b[0m\u001b[1;33m)\u001b[0m\u001b[1;33m\u001b[0m\u001b[1;33m\u001b[0m\u001b[0m\n\u001b[0m",
      "\u001b[1;31mValueError\u001b[0m: I/O operation on closed file."
     ]
    }
   ],
   "source": [
    "file.read() # error"
   ]
  },
  {
   "cell_type": "code",
   "execution_count": null,
   "id": "c52e9625",
   "metadata": {},
   "outputs": [],
   "source": []
  }
 ],
 "metadata": {
  "kernelspec": {
   "display_name": "Python 3",
   "language": "python",
   "name": "python3"
  },
  "language_info": {
   "codemirror_mode": {
    "name": "ipython",
    "version": 3
   },
   "file_extension": ".py",
   "mimetype": "text/x-python",
   "name": "python",
   "nbconvert_exporter": "python",
   "pygments_lexer": "ipython3",
   "version": "3.8.8"
  }
 },
 "nbformat": 4,
 "nbformat_minor": 5
}
