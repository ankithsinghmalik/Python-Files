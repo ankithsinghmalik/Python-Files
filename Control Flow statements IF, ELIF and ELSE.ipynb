{
 "cells": [
  {
   "cell_type": "markdown",
   "id": "f674424e",
   "metadata": {},
   "source": [
    "# IF Condition"
   ]
  },
  {
   "cell_type": "code",
   "execution_count": 1,
   "id": "1daf94d4",
   "metadata": {},
   "outputs": [
    {
     "data": {
      "text/plain": [
       "'\\nsyntax of IF\\n\\nif (condition/s):\\n    statement1\\n    statement2\\n    ...........\\n    \\n'"
      ]
     },
     "execution_count": 1,
     "metadata": {},
     "output_type": "execute_result"
    }
   ],
   "source": [
    "'''\n",
    "syntax of IF\n",
    "\n",
    "if (condition/s):\n",
    "    statement1\n",
    "    statement2\n",
    "    ...........\n",
    "    \n",
    "'''"
   ]
  },
  {
   "cell_type": "code",
   "execution_count": 4,
   "id": "7509a199",
   "metadata": {},
   "outputs": [
    {
     "name": "stdout",
     "output_type": "stream",
     "text": [
      "both the numbers are same\n"
     ]
    }
   ],
   "source": [
    "number1  = 20\n",
    "number2 = 20\n",
    "\n",
    "if (number1 == number2):\n",
    "    print(\"both the numbers are same\")\n",
    "    \n",
    "\n",
    "    "
   ]
  },
  {
   "cell_type": "code",
   "execution_count": 25,
   "id": "f65dd2dd",
   "metadata": {},
   "outputs": [],
   "source": [
    "# example 2\n",
    "number3 = 40\n",
    "number4 = 20\n",
    "\n",
    "if(number3 != number4):\n",
    "    print(\"Both the numbers are not same\")\n",
    "    "
   ]
  },
  {
   "cell_type": "code",
   "execution_count": 8,
   "id": "c301da3d",
   "metadata": {},
   "outputs": [],
   "source": [
    "# INDENTATION"
   ]
  },
  {
   "cell_type": "code",
   "execution_count": 9,
   "id": "e5a6a893",
   "metadata": {},
   "outputs": [
    {
     "ename": "IndentationError",
     "evalue": "expected an indented block (<ipython-input-9-b6ad29d4d7e2>, line 4)",
     "output_type": "error",
     "traceback": [
      "\u001b[1;36m  File \u001b[1;32m\"<ipython-input-9-b6ad29d4d7e2>\"\u001b[1;36m, line \u001b[1;32m4\u001b[0m\n\u001b[1;33m    print(\"10 is greater\") #error\u001b[0m\n\u001b[1;37m    ^\u001b[0m\n\u001b[1;31mIndentationError\u001b[0m\u001b[1;31m:\u001b[0m expected an indented block\n"
     ]
    }
   ],
   "source": [
    "#USING WHITE SPACES AT THE BEGINNING OF THE LINE\n",
    "\n",
    "if (10>2):\n",
    "print(\"10 is greater\") #error"
   ]
  },
  {
   "cell_type": "code",
   "execution_count": 16,
   "id": "a81d3031",
   "metadata": {},
   "outputs": [
    {
     "ename": "IndentationError",
     "evalue": "unexpected indent (<ipython-input-16-74928a45b056>, line 4)",
     "output_type": "error",
     "traceback": [
      "\u001b[1;36m  File \u001b[1;32m\"<ipython-input-16-74928a45b056>\"\u001b[1;36m, line \u001b[1;32m4\u001b[0m\n\u001b[1;33m    print(\"2 is smaller\")\u001b[0m\n\u001b[1;37m    ^\u001b[0m\n\u001b[1;31mIndentationError\u001b[0m\u001b[1;31m:\u001b[0m unexpected indent\n"
     ]
    }
   ],
   "source": [
    "# error\n",
    "if(10>2):\n",
    "    print(\"10 is greater\")\n",
    "        print(\"2 is smaller\")    "
   ]
  },
  {
   "cell_type": "code",
   "execution_count": 18,
   "id": "845aeb11",
   "metadata": {},
   "outputs": [
    {
     "ename": "IndentationError",
     "evalue": "unindent does not match any outer indentation level (<tokenize>, line 4)",
     "output_type": "error",
     "traceback": [
      "\u001b[1;36m  File \u001b[1;32m\"<tokenize>\"\u001b[1;36m, line \u001b[1;32m4\u001b[0m\n\u001b[1;33m    print(\"2 is smaller\")\u001b[0m\n\u001b[1;37m    ^\u001b[0m\n\u001b[1;31mIndentationError\u001b[0m\u001b[1;31m:\u001b[0m unindent does not match any outer indentation level\n"
     ]
    }
   ],
   "source": [
    "# error\n",
    "if(10>2):\n",
    "         print(\"10 is greater\")\n",
    "    print(\"2 is smaller\")"
   ]
  },
  {
   "cell_type": "code",
   "execution_count": 19,
   "id": "51fc3f58",
   "metadata": {},
   "outputs": [
    {
     "name": "stdout",
     "output_type": "stream",
     "text": [
      "11 is greater\n",
      "10 is smaller\n",
      "11 is greater than 10\n"
     ]
    }
   ],
   "source": [
    "if (11>10):\n",
    "    print(\"11 is greater\")\n",
    "    print(\"10 is smaller\")\n",
    "    print(\"11 is greater than 10\")"
   ]
  },
  {
   "cell_type": "code",
   "execution_count": null,
   "id": "928bc136",
   "metadata": {},
   "outputs": [],
   "source": [
    "'''\n",
    "syntax of IF..ELSE CONDITION\n",
    "\n",
    "if (condition/s):\n",
    "    statement1\n",
    "    statement2\n",
    "    ...........\n",
    "else:\n",
    "    statement1\n",
    "    statement2\n",
    "    \n",
    "'''"
   ]
  },
  {
   "cell_type": "code",
   "execution_count": 23,
   "id": "f9212be8",
   "metadata": {},
   "outputs": [
    {
     "name": "stdout",
     "output_type": "stream",
     "text": [
      "They are not equal\n"
     ]
    }
   ],
   "source": [
    "num1 = 10\n",
    "num2 = 20\n",
    "\n",
    "if (num1 == num2):\n",
    "    print(\"They are equal\")\n",
    "else:\n",
    "    print(\"They are not equal\")"
   ]
  },
  {
   "cell_type": "code",
   "execution_count": 24,
   "id": "b774361e",
   "metadata": {},
   "outputs": [
    {
     "name": "stdout",
     "output_type": "stream",
     "text": [
      "Name 1 is greater than name 2\n"
     ]
    }
   ],
   "source": [
    "name = 'Rahul'\n",
    "name2 = 'Mike'\n",
    "\n",
    "if(name > name2):\n",
    "    print(\"Name 1 is greater than name 2\")\n",
    "else:\n",
    "    print(\"Name 1 is smaller than name 2\")"
   ]
  },
  {
   "cell_type": "markdown",
   "id": "d7e2e369",
   "metadata": {},
   "source": [
    "# IF ELIF ...ELSE"
   ]
  },
  {
   "cell_type": "code",
   "execution_count": 26,
   "id": "4468f626",
   "metadata": {},
   "outputs": [
    {
     "data": {
      "text/plain": [
       "'\\nsyntax of IF..ELIF..ELSE CONDITION\\n\\nif (condition/s):\\n    statement1\\n    statement2\\n    ...........\\nelif (condition/s):\\n    statement1\\n    statement2\\n\\nelse:\\n    statement1\\n    statement2\\n    \\n'"
      ]
     },
     "execution_count": 26,
     "metadata": {},
     "output_type": "execute_result"
    }
   ],
   "source": [
    "'''\n",
    "syntax of IF..ELIF..ELSE CONDITION\n",
    "\n",
    "if (condition/s):\n",
    "    statement1\n",
    "    statement2\n",
    "    ...........\n",
    "elif (condition/s):\n",
    "    statement1\n",
    "    statement2\n",
    "\n",
    "else:\n",
    "    statement1\n",
    "    statement2\n",
    "    \n",
    "'''"
   ]
  },
  {
   "cell_type": "code",
   "execution_count": 27,
   "id": "f43f577c",
   "metadata": {},
   "outputs": [
    {
     "name": "stdout",
     "output_type": "stream",
     "text": [
      "number1 is greater than number 2\n"
     ]
    }
   ],
   "source": [
    "number1 = 1000\n",
    "number2 = 100\n",
    "\n",
    "if (number1 == number2):\n",
    "    print(\"they are Equal\")\n",
    "elif (number1 > number2):\n",
    "    print(\"number1 is greater than number 2\")\n",
    "else:\n",
    "    print(\"number1 is less than number2\")"
   ]
  },
  {
   "cell_type": "code",
   "execution_count": 30,
   "id": "5edf5804",
   "metadata": {},
   "outputs": [
    {
     "name": "stdout",
     "output_type": "stream",
     "text": [
      "condition satisfied\n"
     ]
    }
   ],
   "source": [
    "# using multiple conditions\n",
    "\n",
    "# by using and or operators\n",
    "\n",
    "#example\n",
    "\n",
    "number  = 11\n",
    "\n",
    "# either it should be divisible by 2\n",
    "#or it should be a positive number\n",
    "#or it should be divisible by 3\n",
    "\n",
    "if (number%2 == 0 or number > 0 or number%3 ==0):\n",
    "    print(\"condition satisfied\")\n",
    "else:\n",
    "    print(\"not satisfied\")\n"
   ]
  },
  {
   "cell_type": "code",
   "execution_count": 31,
   "id": "04d31826",
   "metadata": {},
   "outputs": [
    {
     "name": "stdout",
     "output_type": "stream",
     "text": [
      "condition satisfied\n"
     ]
    }
   ],
   "source": [
    "number2 = 10\n",
    "\n",
    "if (number2 >0 and number2%2 ==0 and number2%5 == 0):\n",
    "    print(\"condition satisfied\")\n",
    "else:\n",
    "    print(\"not satisfied\")"
   ]
  },
  {
   "cell_type": "code",
   "execution_count": 35,
   "id": "300d8c61",
   "metadata": {},
   "outputs": [
    {
     "name": "stdout",
     "output_type": "stream",
     "text": [
      "positive number\n",
      "divisible by 2\n"
     ]
    }
   ],
   "source": [
    "#NESTED IF ELSE\n",
    "\n",
    "num1 = 10\n",
    "if(num1>0):\n",
    "    print(\"positive number\")\n",
    "    if(num1%2 ==0):\n",
    "        print(\"divisible by 2\")\n",
    "    elif (num1 % 3 ==0):\n",
    "        print(\"divisible by 3\")\n",
    "    else:\n",
    "        print(\"not divisible by 2 and 3\")\n",
    "\n",
    "else:\n",
    "    print(\"number is negative\")\n",
    "    "
   ]
  },
  {
   "cell_type": "code",
   "execution_count": null,
   "id": "297c6d71",
   "metadata": {},
   "outputs": [],
   "source": [
    "# task \n",
    "# ask the user 2 numbers and store it inside num1 and num2\n",
    "# ask the user to press 1 for addition and press 2 for sub and press 3 for multi and press 4 for division\n",
    "#based on the number given by the user o the math operation"
   ]
  }
 ],
 "metadata": {
  "kernelspec": {
   "display_name": "Python 3",
   "language": "python",
   "name": "python3"
  },
  "language_info": {
   "codemirror_mode": {
    "name": "ipython",
    "version": 3
   },
   "file_extension": ".py",
   "mimetype": "text/x-python",
   "name": "python",
   "nbconvert_exporter": "python",
   "pygments_lexer": "ipython3",
   "version": "3.8.8"
  }
 },
 "nbformat": 4,
 "nbformat_minor": 5
}
