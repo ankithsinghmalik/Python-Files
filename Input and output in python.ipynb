{
 "cells": [
  {
   "cell_type": "code",
   "execution_count": 1,
   "id": "2040d810",
   "metadata": {},
   "outputs": [
    {
     "name": "stdout",
     "output_type": "stream",
     "text": [
      "hello world\n"
     ]
    }
   ],
   "source": [
    "# printing or giving the output as hello world\n",
    "\n",
    "print(\"hello world\")"
   ]
  },
  {
   "cell_type": "code",
   "execution_count": 2,
   "id": "9a1eaf34",
   "metadata": {},
   "outputs": [
    {
     "name": "stdout",
     "output_type": "stream",
     "text": [
      "125\n",
      "The value of a is  125\n",
      "The value of a is 125\n"
     ]
    }
   ],
   "source": [
    "a = 125\n",
    "b = 'Hello '\n",
    "c = 200\n",
    "\n",
    "print(a)\n",
    "print(\"The value of a is \", a)\n",
    "\n",
    "print(\"The value of a is \" + str(a))"
   ]
  },
  {
   "cell_type": "code",
   "execution_count": 3,
   "id": "61e360e4",
   "metadata": {},
   "outputs": [
    {
     "name": "stdout",
     "output_type": "stream",
     "text": [
      "The addition of a and b is 750 and the subtraction of a and b is 250\n"
     ]
    }
   ],
   "source": [
    "# giving the output using the format function\n",
    "\n",
    "a = 500 \n",
    "\n",
    "b = 250\n",
    "\n",
    "c = a+b\n",
    "\n",
    "d = a-b\n",
    "\n",
    "print(\"The addition of a and b is {} and the subtraction of a and b is {}\".format(c,d))"
   ]
  },
  {
   "cell_type": "code",
   "execution_count": 4,
   "id": "8a6e77fe",
   "metadata": {},
   "outputs": [
    {
     "name": "stdout",
     "output_type": "stream",
     "text": [
      "The addition of a and b is 750 and the subtraction of a and b is 250\n"
     ]
    }
   ],
   "source": [
    "# using the indexing inside the curly brackets for the .format\n",
    "\n",
    "print(\"The addition of a and b is {1} and the subtraction of a and b is {0}\".format(d,c))"
   ]
  },
  {
   "cell_type": "code",
   "execution_count": 5,
   "id": "3f53ef05",
   "metadata": {},
   "outputs": [
    {
     "name": "stdout",
     "output_type": "stream",
     "text": [
      "Hello i am learning Python and i have solved 10 questions\n"
     ]
    }
   ],
   "source": [
    "# assigning the variables inside the print function and using the .format\n",
    "\n",
    "print(\"Hello i am learning {language} and i have solved {problems} questions\".format(language = \"Python\",problems = 10))"
   ]
  },
  {
   "cell_type": "code",
   "execution_count": 6,
   "id": "b5a739ec",
   "metadata": {},
   "outputs": [
    {
     "name": "stdout",
     "output_type": "stream",
     "text": [
      "Hello my name is Rahul and my age is 22 i am learning Python and i have solved 10 questions\n"
     ]
    }
   ],
   "source": [
    "# assigning the variables inside the print function and combining the indexes with it for the .format method\n",
    "\n",
    "print(\"Hello my name is {1} and my age is {0} i am learning {language} and i have solved {problems} questions\".format(22,\"Rahul\",language = \"Python\",problems = 10))"
   ]
  },
  {
   "cell_type": "code",
   "execution_count": 13,
   "id": "15847e2d",
   "metadata": {},
   "outputs": [
    {
     "name": "stdout",
     "output_type": "stream",
     "text": [
      "Enter the num: 23.888\n"
     ]
    }
   ],
   "source": [
    "# taking input in python\n",
    "\n",
    "name  = float(input(\"Enter the num: \"))"
   ]
  },
  {
   "cell_type": "code",
   "execution_count": 14,
   "id": "739cb8e0",
   "metadata": {},
   "outputs": [
    {
     "data": {
      "text/plain": [
       "float"
      ]
     },
     "execution_count": 14,
     "metadata": {},
     "output_type": "execute_result"
    }
   ],
   "source": [
    "type(name)"
   ]
  },
  {
   "cell_type": "code",
   "execution_count": null,
   "id": "5e480772",
   "metadata": {},
   "outputs": [],
   "source": []
  }
 ],
 "metadata": {
  "kernelspec": {
   "display_name": "Python 3",
   "language": "python",
   "name": "python3"
  },
  "language_info": {
   "codemirror_mode": {
    "name": "ipython",
    "version": 3
   },
   "file_extension": ".py",
   "mimetype": "text/x-python",
   "name": "python",
   "nbconvert_exporter": "python",
   "pygments_lexer": "ipython3",
   "version": "3.8.8"
  }
 },
 "nbformat": 4,
 "nbformat_minor": 5
}
