{
 "cells": [
  {
   "cell_type": "code",
   "execution_count": 1,
   "id": "ef185fe2",
   "metadata": {},
   "outputs": [],
   "source": [
    "#slicing and indexing\n",
    "\n",
    "a  = 'hi we are learning python'"
   ]
  },
  {
   "cell_type": "code",
   "execution_count": 4,
   "id": "b8d6dab0",
   "metadata": {},
   "outputs": [
    {
     "name": "stdout",
     "output_type": "stream",
     "text": [
      "h w\n"
     ]
    }
   ],
   "source": [
    "#index 0 \n",
    "print(a[0],a[3])"
   ]
  },
  {
   "cell_type": "code",
   "execution_count": 7,
   "id": "67d1e371",
   "metadata": {},
   "outputs": [
    {
     "name": "stdout",
     "output_type": "stream",
     "text": [
      "n o y\n"
     ]
    }
   ],
   "source": [
    "print(a[-1],a[-2],a[-5])"
   ]
  },
  {
   "cell_type": "code",
   "execution_count": 8,
   "id": "fc2ef5af",
   "metadata": {},
   "outputs": [
    {
     "data": {
      "text/plain": [
       "25"
      ]
     },
     "execution_count": 8,
     "metadata": {},
     "output_type": "execute_result"
    }
   ],
   "source": [
    "len(a)"
   ]
  },
  {
   "cell_type": "code",
   "execution_count": 9,
   "id": "19a1a87c",
   "metadata": {},
   "outputs": [],
   "source": [
    "# slicing [start:stop:step]\n",
    "# starting position (default 0)\n",
    "#stop - end position \n",
    "#step - step size or increment size (default value 1)\n",
    "\n",
    "# example\n",
    "\n",
    "b = 'hello world'"
   ]
  },
  {
   "cell_type": "code",
   "execution_count": 19,
   "id": "7640bd31",
   "metadata": {},
   "outputs": [
    {
     "data": {
      "text/plain": [
       "'hello'"
      ]
     },
     "execution_count": 19,
     "metadata": {},
     "output_type": "execute_result"
    }
   ],
   "source": [
    "b[:5]"
   ]
  },
  {
   "cell_type": "code",
   "execution_count": 20,
   "id": "e1e3eb5f",
   "metadata": {},
   "outputs": [
    {
     "data": {
      "text/plain": [
       "'world'"
      ]
     },
     "execution_count": 20,
     "metadata": {},
     "output_type": "execute_result"
    }
   ],
   "source": [
    "b[6:]"
   ]
  },
  {
   "cell_type": "code",
   "execution_count": 21,
   "id": "66785c62",
   "metadata": {},
   "outputs": [
    {
     "data": {
      "text/plain": [
       "'world'"
      ]
     },
     "execution_count": 21,
     "metadata": {},
     "output_type": "execute_result"
    }
   ],
   "source": [
    "b[-5:]"
   ]
  },
  {
   "cell_type": "code",
   "execution_count": 22,
   "id": "940d24de",
   "metadata": {},
   "outputs": [
    {
     "data": {
      "text/plain": [
       "'hlowrd'"
      ]
     },
     "execution_count": 22,
     "metadata": {},
     "output_type": "execute_result"
    }
   ],
   "source": [
    "b[::2]"
   ]
  },
  {
   "cell_type": "code",
   "execution_count": 24,
   "id": "bf7f431b",
   "metadata": {},
   "outputs": [
    {
     "data": {
      "text/plain": [
       "'dlrow olleh'"
      ]
     },
     "execution_count": 24,
     "metadata": {},
     "output_type": "execute_result"
    }
   ],
   "source": [
    "#reverse the string \n",
    "b[::-1]"
   ]
  },
  {
   "cell_type": "code",
   "execution_count": 26,
   "id": "7f128ca8",
   "metadata": {},
   "outputs": [],
   "source": [
    "#LIST\n",
    "# we can store different data types\n",
    "# duplicate values are allowed\n",
    "# indexing and slicing is possible\n",
    "# mutable"
   ]
  },
  {
   "cell_type": "code",
   "execution_count": 27,
   "id": "24bae531",
   "metadata": {},
   "outputs": [],
   "source": [
    "# IN python list are written with square brackets\n",
    "\n",
    "list_1 = [1,2,2.5,-99, \"Hey\", \"Guys\",\"Python\", True, False]"
   ]
  },
  {
   "cell_type": "code",
   "execution_count": 28,
   "id": "2818bba8",
   "metadata": {},
   "outputs": [
    {
     "name": "stdout",
     "output_type": "stream",
     "text": [
      "[1, 2, 2.5, -99, 'Hey', 'Guys', 'Python', True, False]\n"
     ]
    }
   ],
   "source": [
    "print(list_1)"
   ]
  },
  {
   "cell_type": "code",
   "execution_count": 33,
   "id": "24659a6b",
   "metadata": {},
   "outputs": [],
   "source": [
    "list_2 = [12,13,13,13, 13, 20, 25, 34 , 34.999, 12.883, -9.86]"
   ]
  },
  {
   "cell_type": "code",
   "execution_count": 34,
   "id": "5a9ee8eb",
   "metadata": {},
   "outputs": [
    {
     "name": "stdout",
     "output_type": "stream",
     "text": [
      "[12, 13, 13, 13, 13, 20, 25, 34, 34.999, 12.883, -9.86]\n"
     ]
    }
   ],
   "source": [
    "print(list_2)"
   ]
  },
  {
   "cell_type": "code",
   "execution_count": 31,
   "id": "90e655bb",
   "metadata": {},
   "outputs": [],
   "source": [
    "list_3 = ['Hey','Guys','how','was','your','day']"
   ]
  },
  {
   "cell_type": "code",
   "execution_count": 32,
   "id": "c3ef5a7f",
   "metadata": {},
   "outputs": [
    {
     "name": "stdout",
     "output_type": "stream",
     "text": [
      "['Hey', 'Guys', 'how', 'was', 'your', 'day']\n"
     ]
    }
   ],
   "source": [
    "print(list_3)"
   ]
  },
  {
   "cell_type": "code",
   "execution_count": 37,
   "id": "81b87374",
   "metadata": {},
   "outputs": [
    {
     "data": {
      "text/plain": [
       "list"
      ]
     },
     "execution_count": 37,
     "metadata": {},
     "output_type": "execute_result"
    }
   ],
   "source": [
    "# checking the data type of a particular variable using the function called  type()\n",
    "\n",
    "type(list_1)"
   ]
  },
  {
   "cell_type": "code",
   "execution_count": 61,
   "id": "f1cc318c",
   "metadata": {},
   "outputs": [
    {
     "data": {
      "text/plain": [
       "12"
      ]
     },
     "execution_count": 61,
     "metadata": {},
     "output_type": "execute_result"
    }
   ],
   "source": [
    "len(list_2)"
   ]
  },
  {
   "cell_type": "code",
   "execution_count": 41,
   "id": "493badcb",
   "metadata": {},
   "outputs": [
    {
     "data": {
      "text/plain": [
       "1"
      ]
     },
     "execution_count": 41,
     "metadata": {},
     "output_type": "execute_result"
    }
   ],
   "source": [
    "# To do the indexing on the list datatype : And as previous examples same it is universal that indexing starts from 0 \n",
    "# gettting my first element using indexing\n",
    "\n",
    "list_1[0]"
   ]
  },
  {
   "cell_type": "code",
   "execution_count": 42,
   "id": "1b37b530",
   "metadata": {},
   "outputs": [
    {
     "data": {
      "text/plain": [
       "False"
      ]
     },
     "execution_count": 42,
     "metadata": {},
     "output_type": "execute_result"
    }
   ],
   "source": [
    "# get my last element\n",
    "\n",
    "list_1[-1]"
   ]
  },
  {
   "cell_type": "code",
   "execution_count": 43,
   "id": "bad28135",
   "metadata": {},
   "outputs": [
    {
     "data": {
      "text/plain": [
       "'Guys'"
      ]
     },
     "execution_count": 43,
     "metadata": {},
     "output_type": "execute_result"
    }
   ],
   "source": [
    "# get the 5th element\n",
    "\n",
    "list_1[5]"
   ]
  },
  {
   "cell_type": "code",
   "execution_count": 44,
   "id": "51650650",
   "metadata": {},
   "outputs": [
    {
     "data": {
      "text/plain": [
       "[12, 13, 13]"
      ]
     },
     "execution_count": 44,
     "metadata": {},
     "output_type": "execute_result"
    }
   ],
   "source": [
    "# Slicing \n",
    "\n",
    "# to get first 3 elements\n",
    "\n",
    "list_2[:3]"
   ]
  },
  {
   "cell_type": "code",
   "execution_count": 45,
   "id": "4f256cbd",
   "metadata": {},
   "outputs": [
    {
     "data": {
      "text/plain": [
       "[1, 2, 2.5, -99, 'Hey']"
      ]
     },
     "execution_count": 45,
     "metadata": {},
     "output_type": "execute_result"
    }
   ],
   "source": [
    "# to get first 5 elements\n",
    "\n",
    "list_1[:5]"
   ]
  },
  {
   "cell_type": "code",
   "execution_count": 46,
   "id": "3299cb6d",
   "metadata": {},
   "outputs": [
    {
     "data": {
      "text/plain": [
       "['Hey', 'Guys', 'how', 'was', 'your', 'day']"
      ]
     },
     "execution_count": 46,
     "metadata": {},
     "output_type": "execute_result"
    }
   ],
   "source": [
    "list_3[:8]"
   ]
  },
  {
   "cell_type": "code",
   "execution_count": 47,
   "id": "d4f9af67",
   "metadata": {},
   "outputs": [
    {
     "data": {
      "text/plain": [
       "[25, 34, 34.999, 12.883, -9.86]"
      ]
     },
     "execution_count": 47,
     "metadata": {},
     "output_type": "execute_result"
    }
   ],
   "source": [
    "# getting the last five elements\n",
    "\n",
    "list_2[-5:]"
   ]
  },
  {
   "cell_type": "code",
   "execution_count": 50,
   "id": "3d1e3821",
   "metadata": {},
   "outputs": [
    {
     "data": {
      "text/plain": [
       "[12, 13, 25, 12.883]"
      ]
     },
     "execution_count": 50,
     "metadata": {},
     "output_type": "execute_result"
    }
   ],
   "source": [
    "# using the increment position(passing the value in the increment position)\n",
    "\n",
    "list_2[::3]"
   ]
  },
  {
   "cell_type": "code",
   "execution_count": 51,
   "id": "3773b032",
   "metadata": {},
   "outputs": [],
   "source": [
    "# mutable "
   ]
  },
  {
   "cell_type": "code",
   "execution_count": 52,
   "id": "835916ed",
   "metadata": {},
   "outputs": [],
   "source": [
    "list_2 = [12,13,13,13, 13, 20, 25, 34 , 34.999, 12.883, -9.86]"
   ]
  },
  {
   "cell_type": "code",
   "execution_count": 55,
   "id": "bd4bb942",
   "metadata": {},
   "outputs": [],
   "source": [
    "list_2[3] = 40"
   ]
  },
  {
   "cell_type": "code",
   "execution_count": 56,
   "id": "b81161c7",
   "metadata": {},
   "outputs": [
    {
     "data": {
      "text/plain": [
       "[30, 13, 13, 40, 13, 20, 25, 34, 34.999, 12.883, -9.86]"
      ]
     },
     "execution_count": 56,
     "metadata": {},
     "output_type": "execute_result"
    }
   ],
   "source": [
    "list_2"
   ]
  },
  {
   "cell_type": "code",
   "execution_count": 57,
   "id": "b62ac9d0",
   "metadata": {},
   "outputs": [],
   "source": [
    "# SOME INBUILT METHODS TO DO FEW OPERATIONS"
   ]
  },
  {
   "cell_type": "code",
   "execution_count": 58,
   "id": "e918dad6",
   "metadata": {},
   "outputs": [],
   "source": [
    "# append operation appends the value at the end of the list\n",
    "list_2.append(\"Rajesh\")"
   ]
  },
  {
   "cell_type": "code",
   "execution_count": 60,
   "id": "8db8f312",
   "metadata": {},
   "outputs": [
    {
     "data": {
      "text/plain": [
       "[30, 13, 13, 40, 13, 20, 25, 34, 34.999, 12.883, -9.86, 'Rajesh']"
      ]
     },
     "execution_count": 60,
     "metadata": {},
     "output_type": "execute_result"
    }
   ],
   "source": [
    "list_2"
   ]
  },
  {
   "cell_type": "code",
   "execution_count": 62,
   "id": "9b59d1cf",
   "metadata": {},
   "outputs": [],
   "source": [
    "list_2.append(\"Sachin\")"
   ]
  },
  {
   "cell_type": "code",
   "execution_count": 63,
   "id": "9cfa2908",
   "metadata": {},
   "outputs": [
    {
     "data": {
      "text/plain": [
       "[30, 13, 13, 40, 13, 20, 25, 34, 34.999, 12.883, -9.86, 'Rajesh', 'Sachin']"
      ]
     },
     "execution_count": 63,
     "metadata": {},
     "output_type": "execute_result"
    }
   ],
   "source": [
    "list_2"
   ]
  },
  {
   "cell_type": "code",
   "execution_count": 64,
   "id": "3a63d65a",
   "metadata": {},
   "outputs": [],
   "source": [
    "# INSERT(pos, element)"
   ]
  },
  {
   "cell_type": "code",
   "execution_count": 65,
   "id": "072337fd",
   "metadata": {},
   "outputs": [],
   "source": [
    "list_2.insert(1,30)"
   ]
  },
  {
   "cell_type": "code",
   "execution_count": 66,
   "id": "3327f52b",
   "metadata": {},
   "outputs": [
    {
     "data": {
      "text/plain": [
       "[30, 30, 13, 13, 40, 13, 20, 25, 34, 34.999, 12.883, -9.86, 'Rajesh', 'Sachin']"
      ]
     },
     "execution_count": 66,
     "metadata": {},
     "output_type": "execute_result"
    }
   ],
   "source": [
    "list_2"
   ]
  },
  {
   "cell_type": "code",
   "execution_count": 67,
   "id": "d1fd0ada",
   "metadata": {},
   "outputs": [],
   "source": [
    "list_2.insert(5,\"Hello\")"
   ]
  },
  {
   "cell_type": "code",
   "execution_count": 68,
   "id": "e4282c3a",
   "metadata": {},
   "outputs": [
    {
     "data": {
      "text/plain": [
       "[30,\n",
       " 30,\n",
       " 13,\n",
       " 13,\n",
       " 40,\n",
       " 'Hello',\n",
       " 13,\n",
       " 20,\n",
       " 25,\n",
       " 34,\n",
       " 34.999,\n",
       " 12.883,\n",
       " -9.86,\n",
       " 'Rajesh',\n",
       " 'Sachin']"
      ]
     },
     "execution_count": 68,
     "metadata": {},
     "output_type": "execute_result"
    }
   ],
   "source": [
    "list_2"
   ]
  },
  {
   "cell_type": "code",
   "execution_count": 69,
   "id": "48b6711c",
   "metadata": {},
   "outputs": [],
   "source": [
    "# copying your list into a different variable\n",
    "\n",
    "list_4 = list_2"
   ]
  },
  {
   "cell_type": "code",
   "execution_count": 70,
   "id": "d8375a82",
   "metadata": {},
   "outputs": [
    {
     "name": "stdout",
     "output_type": "stream",
     "text": [
      "[30, 30, 13, 13, 40, 'Hello', 13, 20, 25, 34, 34.999, 12.883, -9.86, 'Rajesh', 'Sachin']\n"
     ]
    }
   ],
   "source": [
    "print(list_4) # copying the list_2 using the assignment operator '='"
   ]
  },
  {
   "cell_type": "code",
   "execution_count": 71,
   "id": "be693bef",
   "metadata": {},
   "outputs": [
    {
     "name": "stdout",
     "output_type": "stream",
     "text": [
      "[30, 30, 13, 13, 40, 'Hello', 13, 20, 25, 34, 34.999, 12.883, -9.86, 'Rajesh', 'Sachin']\n"
     ]
    }
   ],
   "source": [
    "print(list_2) # original "
   ]
  },
  {
   "cell_type": "code",
   "execution_count": 72,
   "id": "e5aa16bd",
   "metadata": {},
   "outputs": [],
   "source": [
    "# to copy the values from one variable to another we have a function known as .copy()\n",
    "\n",
    "list_5 = list_2.copy() # copying the list_2 using the copy() function"
   ]
  },
  {
   "cell_type": "code",
   "execution_count": 74,
   "id": "436bedd4",
   "metadata": {},
   "outputs": [
    {
     "name": "stdout",
     "output_type": "stream",
     "text": [
      "[30, 30, 13, 13, 40, 'Hello', 13, 20, 25, 34, 34.999, 12.883, -9.86, 'Rajesh', 'Sachin']\n"
     ]
    }
   ],
   "source": [
    "print(list_5)"
   ]
  },
  {
   "cell_type": "code",
   "execution_count": 75,
   "id": "cdb732eb",
   "metadata": {},
   "outputs": [],
   "source": [
    "list_4[4] = 'Python'"
   ]
  },
  {
   "cell_type": "code",
   "execution_count": 76,
   "id": "ed634dd3",
   "metadata": {},
   "outputs": [
    {
     "name": "stdout",
     "output_type": "stream",
     "text": [
      "[30, 30, 13, 13, 'Python', 'Hello', 13, 20, 25, 34, 34.999, 12.883, -9.86, 'Rajesh', 'Sachin']\n",
      "[30, 30, 13, 13, 'Python', 'Hello', 13, 20, 25, 34, 34.999, 12.883, -9.86, 'Rajesh', 'Sachin']\n"
     ]
    }
   ],
   "source": [
    "print(list_4)\n",
    "print(list_2)"
   ]
  },
  {
   "cell_type": "code",
   "execution_count": 77,
   "id": "adc1bc41",
   "metadata": {},
   "outputs": [],
   "source": [
    "list_5[7] = 'Programming'"
   ]
  },
  {
   "cell_type": "code",
   "execution_count": 78,
   "id": "bcead392",
   "metadata": {},
   "outputs": [
    {
     "name": "stdout",
     "output_type": "stream",
     "text": [
      "[30, 30, 13, 13, 40, 'Hello', 13, 'Programming', 25, 34, 34.999, 12.883, -9.86, 'Rajesh', 'Sachin']\n",
      "[30, 30, 13, 13, 'Python', 'Hello', 13, 20, 25, 34, 34.999, 12.883, -9.86, 'Rajesh', 'Sachin']\n"
     ]
    }
   ],
   "source": [
    "print(list_5)\n",
    "print(list_2)"
   ]
  },
  {
   "cell_type": "code",
   "execution_count": 79,
   "id": "ca55414b",
   "metadata": {},
   "outputs": [],
   "source": [
    "# extend\n",
    "\n",
    "# IN python list are written with square brackets\n",
    "\n",
    "list_1 = [1,2,2.5,-99, \"Hey\", \"Guys\",\"Python\", True, False]"
   ]
  },
  {
   "cell_type": "code",
   "execution_count": 80,
   "id": "da187635",
   "metadata": {},
   "outputs": [],
   "source": [
    "list_1.extend(list_2)"
   ]
  },
  {
   "cell_type": "code",
   "execution_count": 81,
   "id": "d97c3f16",
   "metadata": {},
   "outputs": [],
   "source": [
    "list_1.extend(list_3)"
   ]
  },
  {
   "cell_type": "code",
   "execution_count": 82,
   "id": "3d4f52a6",
   "metadata": {},
   "outputs": [
    {
     "name": "stdout",
     "output_type": "stream",
     "text": [
      "[1, 2, 2.5, -99, 'Hey', 'Guys', 'Python', True, False, 30, 30, 13, 13, 'Python', 'Hello', 13, 20, 25, 34, 34.999, 12.883, -9.86, 'Rajesh', 'Sachin', 'Hey', 'Guys', 'how', 'was', 'your', 'day']\n"
     ]
    }
   ],
   "source": [
    "print(list_1)"
   ]
  },
  {
   "cell_type": "code",
   "execution_count": null,
   "id": "004a0d2c",
   "metadata": {},
   "outputs": [],
   "source": [
    "# remove(), count(), pop(),sort(), reverse()"
   ]
  }
 ],
 "metadata": {
  "kernelspec": {
   "display_name": "Python 3",
   "language": "python",
   "name": "python3"
  },
  "language_info": {
   "codemirror_mode": {
    "name": "ipython",
    "version": 3
   },
   "file_extension": ".py",
   "mimetype": "text/x-python",
   "name": "python",
   "nbconvert_exporter": "python",
   "pygments_lexer": "ipython3",
   "version": "3.8.8"
  }
 },
 "nbformat": 4,
 "nbformat_minor": 5
}
